{
 "cells": [
  {
   "cell_type": "code",
   "execution_count": null,
   "id": "6e42cf54",
   "metadata": {},
   "outputs": [],
   "source": [
    "#dt -- values pass in key and value pair\n",
    "name =\"kamlesh\"# name behave as key and kamlesh behave ak value\n",
    "#dt -- it is ordered and donot allow duplicates . it is hetrogenious\n",
    "# dt is udesd in while creating data base \n"
   ]
  },
  {
   "cell_type": "code",
   "execution_count": 2,
   "metadata": {},
   "outputs": [
    {
     "name": "stdout",
     "output_type": "stream",
     "text": [
      "{'name': 'kamlesh', 'age': 20, 'hobby': ' cricket'}\n",
      "<class 'dict'>\n"
     ]
    }
   ],
   "source": [
    "dt ={\n",
    "    \"name\" : \"kamlesh\" ,\n",
    "    \"age\" : 20 ,\n",
    "    \"hobby\" : \" cricket\"\n",
    "    }\n",
    "print(dt)\n",
    "print(type(dt))"
   ]
  },
  {
   "cell_type": "code",
   "execution_count": null,
   "metadata": {},
   "outputs": [
    {
     "data": {
      "text/plain": [
       "{'name': 'Aayushi', 'age': 20, 'hobby': ' cricket'}"
      ]
     },
     "execution_count": 5,
     "metadata": {},
     "output_type": "execute_result"
    }
   ],
   "source": [
    "dt[\"name\"] ## indexing asa hote h dictonary\n",
    "dt[\"name\"] = \"Aayushi\" # update \n",
    "dt"
   ]
  },
  {
   "cell_type": "code",
   "execution_count": 6,
   "metadata": {},
   "outputs": [
    {
     "data": {
      "text/plain": [
       "'Aayushi'"
      ]
     },
     "execution_count": 6,
     "metadata": {},
     "output_type": "execute_result"
    }
   ],
   "source": [
    "dt.get(\"name\")# esma hm perticular key btynga or ya hma uske value la kr da daga\n"
   ]
  },
  {
   "cell_type": "code",
   "execution_count": null,
   "id": "b68880dd",
   "metadata": {},
   "outputs": [
    {
     "data": {
      "text/plain": [
       "dict_keys(['name', 'age', 'hobby'])"
      ]
     },
     "execution_count": 7,
     "metadata": {},
     "output_type": "execute_result"
    }
   ],
   "source": [
    "dt.keys()## jetne bhi keys present h dicionary m un ko btata h"
   ]
  },
  {
   "cell_type": "code",
   "execution_count": null,
   "id": "53342654",
   "metadata": {},
   "outputs": [
    {
     "data": {
      "text/plain": [
       "dict_values(['Aayushi', 20, ' cricket'])"
      ]
     },
     "execution_count": 8,
     "metadata": {},
     "output_type": "execute_result"
    }
   ],
   "source": [
    "dt.values()## jete bhi values h vo btata h"
   ]
  },
  {
   "cell_type": "code",
   "execution_count": null,
   "id": "ef73b263",
   "metadata": {},
   "outputs": [
    {
     "data": {
      "text/plain": [
       "dict_items([('name', 'Aayushi'), ('age', 20), ('hobby', ' cricket')])"
      ]
     },
     "execution_count": 9,
     "metadata": {},
     "output_type": "execute_result"
    }
   ],
   "source": [
    "dt.items()# key or value dono ka pair retur ktta h\n"
   ]
  },
  {
   "cell_type": "code",
   "execution_count": 12,
   "id": "ea169b33",
   "metadata": {},
   "outputs": [],
   "source": [
    "dt.update({\"name\":\"Aayushi\",\"hello\" : \"world\"})"
   ]
  },
  {
   "cell_type": "code",
   "execution_count": 17,
   "id": "7e019578",
   "metadata": {},
   "outputs": [
    {
     "ename": "KeyError",
     "evalue": "'name'",
     "output_type": "error",
     "traceback": [
      "\u001b[31m---------------------------------------------------------------------------\u001b[39m",
      "\u001b[31mKeyError\u001b[39m                                  Traceback (most recent call last)",
      "\u001b[36mCell\u001b[39m\u001b[36m \u001b[39m\u001b[32mIn[17]\u001b[39m\u001b[32m, line 1\u001b[39m\n\u001b[32m----> \u001b[39m\u001b[32m1\u001b[39m \u001b[43mdt\u001b[49m\u001b[43m.\u001b[49m\u001b[43mpop\u001b[49m\u001b[43m(\u001b[49m\u001b[33;43m\"\u001b[39;49m\u001b[33;43mname\u001b[39;49m\u001b[33;43m\"\u001b[39;49m\u001b[43m)\u001b[49m\u001b[38;5;66;03m# key or value dono delete ho jyge\u001b[39;00m\n",
      "\u001b[31mKeyError\u001b[39m: 'name'"
     ]
    }
   ],
   "source": [
    "dt.pop(\"name\")# key or value dono delete ho jyge\n"
   ]
  },
  {
   "cell_type": "code",
   "execution_count": 15,
   "id": "d655b44a",
   "metadata": {},
   "outputs": [
    {
     "data": {
      "text/plain": [
       "{'age': 20}"
      ]
     },
     "execution_count": 15,
     "metadata": {},
     "output_type": "execute_result"
    }
   ],
   "source": [
    "dt.popitem()# jo last m key h usko delet kr dga\n",
    "dt"
   ]
  },
  {
   "cell_type": "code",
   "execution_count": 19,
   "id": "6ad51a7b",
   "metadata": {},
   "outputs": [
    {
     "data": {
      "text/plain": [
       "{'age': 20, 'name': 'shyam'}"
      ]
     },
     "execution_count": 19,
     "metadata": {},
     "output_type": "execute_result"
    }
   ],
   "source": [
    "dt.setdefault(\"name\",\"shyam\")# valu ko disctionar m feed kr dga. agr value apn na de h tb to jo de h vo feed kr dga or agr nhi de h to jo da rkhe h dictionsr m vo kr dga\n",
    "dt"
   ]
  },
  {
   "cell_type": "code",
   "execution_count": 20,
   "id": "6afc2c11",
   "metadata": {},
   "outputs": [
    {
     "name": "stdout",
     "output_type": "stream",
     "text": [
      "{'a': 0, 'b': 0, 'c': 0}\n"
     ]
    }
   ],
   "source": [
    "## from keys is used to make a new disctionary \n",
    "# with all values set to the default value\n",
    "keys =[\"a\",\"b\",\"c\"]\n",
    "new_dict = dict.fromkeys(keys,0)\n",
    "print(new_dict)\n"
   ]
  },
  {
   "cell_type": "code",
   "execution_count": null,
   "id": "951222fa",
   "metadata": {},
   "outputs": [],
   "source": []
  },
  {
   "cell_type": "code",
   "execution_count": null,
   "id": "b01f6353",
   "metadata": {},
   "outputs": [],
   "source": []
  }
 ],
 "metadata": {
  "kernelspec": {
   "display_name": "Python 3",
   "language": "python",
   "name": "python3"
  },
  "language_info": {
   "codemirror_mode": {
    "name": "ipython",
    "version": 3
   },
   "file_extension": ".py",
   "mimetype": "text/x-python",
   "name": "python",
   "nbconvert_exporter": "python",
   "pygments_lexer": "ipython3",
   "version": "3.11.9"
  }
 },
 "nbformat": 4,
 "nbformat_minor": 5
}
