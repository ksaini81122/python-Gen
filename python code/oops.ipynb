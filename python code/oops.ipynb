{
 "cells": [
  {
   "cell_type": "code",
   "execution_count": null,
   "id": "b236a358",
   "metadata": {},
   "outputs": [],
   "source": [
    "## oops -- object orienter programing \n",
    "# pyhtin is a oops programing language\n",
    "## class ,object, method ,constructor\n",
    "## 3 pillers\n",
    "## encapsulation\n",
    "# inheritance --> single ,multiple , multilevel\n",
    "# polymorphism\n",
    "\n"
   ]
  },
  {
   "cell_type": "code",
   "execution_count": null,
   "id": "39bd115b",
   "metadata": {},
   "outputs": [],
   "source": [
    "# class and object\n",
    "## class -- blue print for creating object\n",
    "## object -- real world entity\n",
    "## object is an instant of class  \n",
    "## object class ka methord and properties ko access krna ka kaam aata h\n"
   ]
  },
  {
   "cell_type": "code",
   "execution_count": 7,
   "id": "336367be",
   "metadata": {},
   "outputs": [],
   "source": [
    "class car:\n",
    "    ## class variables \n",
    "    num1 = 100\n",
    "    num2 = \"xyz\"\n",
    "    model = 2020\n",
    "    \n",
    "    def display(self):   # self keyword --- class ka and he uske properties ka assess krna h tb apn self key word ka use krta h\n",
    "        print(\"hello\")\n",
    "        print(self.num2)\n",
    "        print(self.num1)\n",
    "        print(self.model)"
   ]
  },
  {
   "cell_type": "code",
   "execution_count": 8,
   "id": "80cf33ed",
   "metadata": {},
   "outputs": [
    {
     "name": "stdout",
     "output_type": "stream",
     "text": [
      "hello\n",
      "xyz\n",
      "100\n",
      "2020\n"
     ]
    }
   ],
   "source": [
    "## object -- \n",
    "obj=car()\n",
    "obj.display()"
   ]
  },
  {
   "cell_type": "code",
   "execution_count": 2,
   "id": "c113d26c",
   "metadata": {},
   "outputs": [
    {
     "name": "stdout",
     "output_type": "stream",
     "text": [
      "name: dog\n",
      "age: 2\n",
      "name: cat\n",
      "age: 3\n"
     ]
    }
   ],
   "source": [
    "## __init__ constructor -- magic keyword\n",
    "## variable ko initilize krne ka leya\n",
    "class Animal:\n",
    "    def __init__(self,name,age):\n",
    "        self.name=name\n",
    "        self.age=age\n",
    "    def show(self):\n",
    "        print(\"name:\",self.name)\n",
    "        print(\"age:\",self.age)\n",
    "        \n",
    "obj = Animal(\"dog\",2)\n",
    "obj.show()\n",
    "\n",
    "obj1 = Animal(\"cat\",3)\n",
    "obj1.show()       "
   ]
  },
  {
   "cell_type": "code",
   "execution_count": 6,
   "id": "19f5686e",
   "metadata": {},
   "outputs": [
    {
     "name": "stdout",
     "output_type": "stream",
     "text": [
      "name: swift\n",
      "model: 2015\n"
     ]
    }
   ],
   "source": [
    "class Car:\n",
    "    def __init__(self,name,model):\n",
    "        self.name=name\n",
    "        self.model=model\n",
    "    def show(self):\n",
    "        print(\"name:\",self.name)\n",
    "        print(\"model:\",self.model)\n",
    "        \n",
    "obj = Car(\"swift\",2015)  \n",
    "obj.show()\n",
    "    \n",
    "      "
   ]
  },
  {
   "cell_type": "code",
   "execution_count": 15,
   "id": "fca22c38",
   "metadata": {},
   "outputs": [
    {
     "name": "stdout",
     "output_type": "stream",
     "text": [
      "name: kamlesh\n",
      "balance: 1050000000.0\n"
     ]
    }
   ],
   "source": [
    "## inheritance -- single ,multiple ,multilevel\n",
    "## single -- 1 parent class , 1 child class\n",
    "\n",
    "class Account:\n",
    "    def __init__(self,name,balance):\n",
    "        self.name=name\n",
    "        self.balance=balance\n",
    "        \n",
    "    def show(self):\n",
    "        print(\"name:\",self.name)\n",
    "        \n",
    "class savingsacc(Account):\n",
    "    def add_interest(self):\n",
    "        self.balance *=1.05\n",
    "        \n",
    "    def display(self):\n",
    "        print(\"balance:\",self.balance)\n",
    "        \n",
    "obj = savingsacc(\"kamlesh\",1000000000)\n",
    "obj.show()\n",
    "obj.add_interest()\n",
    "obj.display()"
   ]
  },
  {
   "cell_type": "code",
   "execution_count": 4,
   "id": "50a1b3a1",
   "metadata": {},
   "outputs": [
    {
     "name": "stdout",
     "output_type": "stream",
     "text": [
      "salary: 1000000\n",
      "name: kamlesh\n",
      "company: google\n"
     ]
    }
   ],
   "source": [
    "## multiple inheritance - many parent class but single child class\n",
    "\n",
    "class person:\n",
    "    def __init__(self,name):\n",
    "        self.name=name\n",
    "    def personshow(self):\n",
    "        print(\"name:\",self.name)\n",
    "        \n",
    "class company:\n",
    "    def __init__(self,company1):\n",
    "        self.company1=company1\n",
    "    def companyshow(self):\n",
    "        print(\"company:\",self.company1)\n",
    "        \n",
    "class employee(person,company):\n",
    "    def __init__(self,name,salary,company1):\n",
    "        person.__init__(self , name)   ## super() ke jgh class ka use keya h 'person'\n",
    "        company.__init__(self , company1) \n",
    "        self.salary=salary\n",
    "    \n",
    "    def employeeshow(self):\n",
    "        print(\"salary:\",self.salary)\n",
    "        person.personshow(self)\n",
    "        company.companyshow(self)\n",
    "            \n",
    "obj = employee(\"kamlesh\",1000000,\"google\")\n",
    "obj.employeeshow()\n"
   ]
  },
  {
   "cell_type": "code",
   "execution_count": 9,
   "id": "d01c3670",
   "metadata": {},
   "outputs": [
    {
     "name": "stdout",
     "output_type": "stream",
     "text": [
      "name: Kamlesh\n",
      "department: computer science\n",
      "university: Bikaner Technical University\n"
     ]
    }
   ],
   "source": [
    "## multilevel -->A---->B---->C\n",
    "class uni:\n",
    "    def __init__(self,uni_name):\n",
    "        self.uni_name=uni_name\n",
    "        \n",
    "class department(uni):\n",
    "    def __init__(self,uni_name,dep_name):\n",
    "        uni.__init__(self,uni_name)\n",
    "        self.dep_name=dep_name\n",
    "        \n",
    "class student(department):\n",
    "    def __init__(self,uni_name,dep_name,student_name):\n",
    "        department.__init__(self,uni_name,dep_name)\n",
    "        self.student_name=student_name\n",
    "    def display(self):\n",
    "        print(\"name:\",self.student_name)\n",
    "        print(\"department:\",self.dep_name)\n",
    "        print(\"university:\",self.uni_name)\n",
    "\n",
    "obj = student(\"Bikaner Technical University\",\"computer science\",\"Kamlesh\")\n",
    "obj.display()\n"
   ]
  },
  {
   "cell_type": "code",
   "execution_count": 17,
   "id": "17fcf427",
   "metadata": {},
   "outputs": [
    {
     "name": "stdout",
     "output_type": "stream",
     "text": [
      "bark\n",
      "meow\n"
     ]
    }
   ],
   "source": [
    "## polymorphism -- many forms -\n",
    "## method -- it behaves differently according to the object\n",
    "# print()\n",
    "#len()-- lenght \n",
    "\n",
    "class dog:\n",
    "    def speak(self):\n",
    "        print(\"bark\")\n",
    "        \n",
    "class cat:\n",
    "    def speak(self):\n",
    "        print(\"meow\")\n",
    "\n",
    "def animal_speak(animal):\n",
    "    animal.speak()\n",
    "    \n",
    "dog1=dog()\n",
    "cat1=cat()\n",
    "\n",
    "animal_speak(dog1)\n",
    "animal_speak(cat1)\n"
   ]
  },
  {
   "cell_type": "code",
   "execution_count": null,
   "id": "cc2ea5e2",
   "metadata": {},
   "outputs": [],
   "source": [
    "# encapsulation-- it mens hiding the internal detail of a class\n",
    "#  protecting data from being assess or modified directly the outside world\n",
    "\n",
    "## how you can hide your code :\n",
    "# by making your variables private and protected\n",
    "\n",
    "\n",
    "\n",
    "## private variable -- cannot be assessable outside the class\n",
    "   \n",
    "   ##  __varname\n",
    "\n",
    "## protected variable -- can be assessable outside the class but cannot be modiefied\n",
    "# it can be accessible inside the class and its subclass\n",
    "\n",
    "## _varname"
   ]
  },
  {
   "cell_type": "code",
   "execution_count": 13,
   "id": "1c869fe5",
   "metadata": {},
   "outputs": [
    {
     "name": "stdout",
     "output_type": "stream",
     "text": [
      "60\n"
     ]
    },
    {
     "data": {
      "text/plain": [
       "60"
      ]
     },
     "execution_count": 13,
     "metadata": {},
     "output_type": "execute_result"
    }
   ],
   "source": [
    "class student:\n",
    "    def __init__(self,name,marks):\n",
    "        self.name=name\n",
    "        self.__marks=marks\n",
    "        \n",
    "    def get_marks(self):\n",
    "        return self.__marks\n",
    "    \n",
    "    def set_marks(self,marks):\n",
    "        if 0<=marks <=100:\n",
    "            self.__marks=marks\n",
    "        else:\n",
    "            print(\"invalid marks\")\n",
    "            \n",
    "obj =student(\"xyz\",50)\n",
    "obj.set_marks(60)\n",
    "print(obj.get_marks())\n",
    "\n",
    "## _classname__attributename --> syntex of name mangling\n",
    "\n",
    "obj._student__marks   ## name mangling ## private variable ko call krta time uska thoda naam chg kr ka call kro \n",
    "\n",
    "\n"
   ]
  },
  {
   "cell_type": "code",
   "execution_count": 11,
   "id": "37942b66",
   "metadata": {},
   "outputs": [
    {
     "name": "stdout",
     "output_type": "stream",
     "text": [
      "Current speed: 50\n",
      "Speed cannot be negative\n"
     ]
    }
   ],
   "source": [
    "class Car:\n",
    "    def __init__(self):\n",
    "        self.__speed = 0   # private variable\n",
    "\n",
    "    # Method to set speed (setter)\n",
    "    def set_speed(self, speed):\n",
    "        if speed >= 0:\n",
    "            self.__speed = speed\n",
    "        else:\n",
    "            print(\"Speed cannot be negative\")\n",
    "\n",
    "    # Method to get speed (getter)\n",
    "    def get_speed(self):\n",
    "        return self.__speed\n",
    "\n",
    "\n",
    "my_car = Car()\n",
    "\n",
    "\n",
    "my_car.set_speed(50)\n",
    "print(\"Current speed:\", my_car.get_speed())\n",
    "\n",
    "# Try to set negative speed\n",
    "my_car.set_speed(-20)\n",
    "\n"
   ]
  }
 ],
 "metadata": {
  "kernelspec": {
   "display_name": "Python 3",
   "language": "python",
   "name": "python3"
  },
  "language_info": {
   "codemirror_mode": {
    "name": "ipython",
    "version": 3
   },
   "file_extension": ".py",
   "mimetype": "text/x-python",
   "name": "python",
   "nbconvert_exporter": "python",
   "pygments_lexer": "ipython3",
   "version": "3.11.9"
  }
 },
 "nbformat": 4,
 "nbformat_minor": 5
}
