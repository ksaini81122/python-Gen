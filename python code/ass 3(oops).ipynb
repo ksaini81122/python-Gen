{
 "cells": [
  {
   "cell_type": "code",
   "execution_count": null,
   "id": "4fa79b2c",
   "metadata": {},
   "outputs": [],
   "source": [
    "# 1.   What is the difference between a class and an object in Python? How do they relate to each other in the context of OOP?  \n",
    "# Ans:\n",
    "# --> class -- blue print for creating object\n",
    "# --> object -- real world entity\n",
    "# --> object is an instant of class  \n",
    "# --> object class ka methord and properties ko access krna ka kaam aata h\n"
   ]
  },
  {
   "cell_type": "code",
   "execution_count": 1,
   "id": "572c1d92",
   "metadata": {},
   "outputs": [
    {
     "name": "stdout",
     "output_type": "stream",
     "text": [
      "title: Modi: Energising A Green Future\n",
      "author: R.K. Pachnanda, Bibek Debroy, Anirban Ganguly, and Uttam Kumar Sinha\n",
      "year_published: 2024\n"
     ]
    }
   ],
   "source": [
    "##  Coding Challenge:   Define a class `Book` with attributes like `title`, `author`, and `year_published`. Create an instance of the class and print out its attributes.\n",
    "\n",
    "class Book:\n",
    "    def __init__(self,title,author,year_publishde):\n",
    "        self.title = title\n",
    "        self.author = author\n",
    "        self.year_published = year_publishde\n",
    "        \n",
    "    def show(self):\n",
    "        print(\"title:\",self.title)\n",
    "        print(\"author:\",self.author)\n",
    "        print(\"year_published:\",self.year_published)\n",
    "        \n",
    "obj = Book(\"Modi: Energising A Green Future\",\"R.K. Pachnanda, Bibek Debroy, Anirban Ganguly, and Uttam Kumar Sinha\",2024)\n",
    "obj.show()"
   ]
  },
  {
   "cell_type": "code",
   "execution_count": null,
   "id": "68b31f03",
   "metadata": {},
   "outputs": [],
   "source": [
    "# 2.   Explain the concept of inheritance in Python. How does it promote code reuse and what are some potential pitfalls?  \n",
    "# Ans.\n",
    "# --> What is Inheritance?\n",
    "# Inheritance is a feature in Python (and most object-oriented programming languages) that allows a class (child/derived) to inherit properties and behaviors (methods) from another class (parent/base).\n",
    "\n",
    "# --> How It Promotes Code Reuse\n",
    "# Avoids Repetition: Common methods/attributes can be defined once in the base class and reused across multiple derived classes.\n",
    "# Easier Maintenance: Changes in the base class automatically reflect in derived classes (if not overridden).\n",
    "# Logical Hierarchy: Reflects real-world relationships, making the code more intuitive and organized.\n",
    "\n",
    "# --> Potential Pitfalls of Inheritance\n",
    "\n",
    "# Tight Coupling :\tChanges in the base class may accidentally break subclasses.\n",
    "# Overuse   : \tUsing inheritance where composition (using classes within classes) might be better leads to rigid code.\n",
    "# Multiple Inheritance Conflicts\t:  Inheriting from multiple classes can cause confusion (e.g., method resolution order problems).\n",
    "# Unintended Overriding :\tA subclass may accidentally override a method without intending to.\n"
   ]
  },
  {
   "cell_type": "code",
   "execution_count": 2,
   "id": "3c768824",
   "metadata": {},
   "outputs": [
    {
     "name": "stdout",
     "output_type": "stream",
     "text": [
      "vehicle is moving\n",
      "Bike is moving\n",
      "Car is moving\n"
     ]
    }
   ],
   "source": [
    "# Coding Challenge:   Create a base class `Vehicle` with a method `move`. Then, create two derived classes `Car` and `Bike` that inherit from `Vehicle` and override the `move` method.\n",
    "\n",
    "class vehicle:\n",
    "    def move(self):\n",
    "        print(\"vehicle is moving\")\n",
    "        \n",
    "class Bike(vehicle):\n",
    "    def move(self):\n",
    "        print(\"Bike is moving\")\n",
    "        \n",
    "class Car(vehicle):\n",
    "    def move(self):\n",
    "        print(\"Car is moving\")\n",
    "        \n",
    "v = vehicle()\n",
    "v.move()\n",
    "\n",
    "b = Bike()\n",
    "b.move()\n",
    "\n",
    "c = Car()\n",
    "c.move()\n"
   ]
  },
  {
   "cell_type": "code",
   "execution_count": null,
   "id": "7a1825a6",
   "metadata": {},
   "outputs": [],
   "source": [
    "# 3.   What is polymorphism in Python, and how is it implemented through method overriding and method overloading?  \n",
    "# Ans. \n",
    "# --> Polymorphism allows you to use the same method name with different behaviors based on the object or arguments.\n",
    "\n",
    "# --> 1. Method Overriding (Runtime Polymorphism)\n",
    "# This happens in inheritance, when a child class redefines a method from the parent class.\n",
    " \n",
    "#  example:\n",
    "#  class Animal:\n",
    "#     def sound(self):\n",
    "#         print(\"Animal makes a sound\")\n",
    "\n",
    "# class Dog(Animal):\n",
    "#     def sound(self):\n",
    "#         print(\"Dog barks\")\n",
    "\n",
    "# class Cat(Animal):\n",
    "#     def sound(self):\n",
    "#         print(\"Cat meows\")\n",
    "\n",
    "# # Polymorphism in action\n",
    "# for animal in [Dog(), Cat()]:\n",
    "#     animal.sound()\n",
    " ## Even though they are different classes, we can call the same method (sound) on them.\n",
    "\n",
    "\n",
    "#  --> 2. Method Overloading (Compile-Time Polymorphism)\n",
    "# Python doesn't support method overloading directly (like Java or C++), but we can simulate it using:\n",
    "\n",
    "# 1. Default arguments\n",
    "\n",
    "# 2. Variable-length arguments\n",
    "\n",
    "# example: \n",
    "\n",
    "# class Greet:\n",
    "#     def hello(self, name=None):\n",
    "#         if name:\n",
    "#             print(f\"Hello, {name}\")\n",
    "#         else:\n",
    "#             print(\"Hello!\")\n",
    "\n",
    "# g = Greet()\n",
    "# g.hello()\n",
    "# g.hello(\"Kamlesh\")\n",
    "\n",
    "# # The same method hello() behaves differently based on the number of arguments.\n"
   ]
  },
  {
   "cell_type": "code",
   "execution_count": 3,
   "id": "9100b153",
   "metadata": {},
   "outputs": [
    {
     "name": "stdout",
     "output_type": "stream",
     "text": [
      "The train is moving\n",
      "The bike is moving\n",
      "The aeroplane is moving\n"
     ]
    }
   ],
   "source": [
    "# -   Coding Challenge:   Write a function `move_vehicle` that takes an object as input and calls its `move` method. Create different classes (`Boat`, `Airplane`, etc.) that have their own `move` methods and pass their instances to `move_vehicle`.\n",
    "\n",
    "def move_vehicle(vehicle):\n",
    "    vehicle.move()\n",
    "    \n",
    "class train:\n",
    "    def move(self):\n",
    "        print(\"The train is moving\")\n",
    "        \n",
    "class bike:\n",
    "    def move(self):\n",
    "        print(\"The bike is moving\")\n",
    "        \n",
    "class Aeroplane:\n",
    "    def move(self):\n",
    "        print(\"The aeroplane is moving\")\n",
    "        \n",
    "t = train()\n",
    "b =bike()\n",
    "a = Aeroplane()\n",
    "\n",
    "move_vehicle(t)\n",
    "move_vehicle(b)\n",
    "move_vehicle(a)\n",
    "        \n"
   ]
  },
  {
   "cell_type": "code",
   "execution_count": null,
   "id": "c23bc019",
   "metadata": {},
   "outputs": [],
   "source": [
    "# 4.   What are class methods and static methods in Python? How do they differ from instance methods?  \n",
    "# Ans. \n",
    "# 1. Instance Methods:-\n",
    "# --> Most common.\n",
    "# --> Take self as the first parameter.\n",
    "# --> Can access and modify instance variables (specific to the object).\n",
    "# example:-\n",
    "# class MyClass:\n",
    "#     def __init__(self, value):\n",
    "#         self.value = value  # instance variable\n",
    "\n",
    "#     def show(self):  # instance method\n",
    "#         print(f\"Value is {self.value}\")\n",
    "# ##  Called using: obj.show()\n",
    "\n",
    "# 2. Class Methods:-\n",
    "# --> Take cls as the first parameter.\n",
    "# --> Use @classmethod decorator.\n",
    "# --> Can access/modify class variables (shared by all instances).\n",
    "# --> Can be used to create objects in different ways.\n",
    "# example:-\n",
    "# class MyClass:\n",
    "#     count = 0  # class variable\n",
    "\n",
    "#     def __init__(self):\n",
    "#         MyClass.count += 1\n",
    "\n",
    "#     @classmethod\n",
    "#     def get_count(cls):\n",
    "#         print(f\"Total objects: {cls.count}\")\n",
    "\n",
    "# ##  Called using: MyClass.get_count() or obj.get_count()\n",
    "\n",
    "# 3. Static Methods:-\n",
    "# --> Take no self or cls.\n",
    "# --> Use @staticmethod decorator.\n",
    "# --> Used for utility/helper functions related to the class, but not dependent on instance or class data.\n",
    "\n",
    "# example:-\n",
    "# class MathTools:\n",
    "#     @staticmethod\n",
    "#     def add(a, b):\n",
    "#         return a + b\n",
    "\n",
    "# ## Called using: MathTools.add(2, 3)"
   ]
  },
  {
   "cell_type": "code",
   "execution_count": 4,
   "id": "2f5030a0",
   "metadata": {},
   "outputs": [
    {
     "name": "stdout",
     "output_type": "stream",
     "text": [
      "6\n",
      "20\n"
     ]
    }
   ],
   "source": [
    "#Define a class `Calculator` with a static method `multiply(a, b)` that returns the product of `a` and `b`, and a class method `from_values` that creates an instance from a list of two values and returns their product.\n",
    "class calculator:\n",
    "    def __init__(self,a,b):\n",
    "        self.a = a\n",
    "        self.b = b\n",
    "        \n",
    "    @staticmethod\n",
    "    def multiple(a,b):\n",
    "        return a * b\n",
    "    \n",
    "    @classmethod\n",
    "    def from_values(cls,values):\n",
    "        a,b = values\n",
    "        obj = cls(a,b)\n",
    "        return cls.multiple(a,b)\n",
    "    \n",
    "        \n",
    "print(calculator.multiple(2,3))\n",
    "print(calculator.from_values([4,5]))"
   ]
  },
  {
   "cell_type": "code",
   "execution_count": null,
   "id": "9e5da534",
   "metadata": {},
   "outputs": [],
   "source": [
    "# 5.   Explain the concept of encapsulation and how Python supports it through public, protected, and private attributes and methods.  \n",
    "# Ans.\n",
    "# --> Encapsulation is an object-oriented programming principle that means hiding the internal details of an object and controlling access to them.\n",
    "#  Benefits of Encapsulation:\n",
    "# --> Protects object data from unwanted access or modification.\n",
    "# --> Helps in maintaining code (you control how data is accessed or changed).\n",
    "# --> Makes your code more secure and reliable.\n",
    "\n",
    "# | Type          | Syntax   | Access Level                           | Use Case                                     |\n",
    "# | ------------- | -------- | -------------------------------------- | -------------------------------------------- |\n",
    "# | **Public**    | `name`   | Accessible from anywhere               | For general-purpose attributes/methods       |\n",
    "# | **Protected** | `_name`  | Internal use; not enforced             | Meant to be accessed within class/subclasses |\n",
    "# | **Private**   | `__name` | Name mangled (not directly accessible) | Prevent outside access to sensitive data     |\n",
    "\n",
    "\n"
   ]
  },
  {
   "cell_type": "code",
   "execution_count": 5,
   "id": "82271f41",
   "metadata": {},
   "outputs": [
    {
     "name": "stdout",
     "output_type": "stream",
     "text": [
      "name: shyam\n",
      "age: 20\n",
      "updated name: mohan\n",
      "updated age: 35\n"
     ]
    }
   ],
   "source": [
    "#-   Coding Challenge:   Create a class `Person` with private attributes `name` and `age`, and methods to set and get these attributes. Ensure that direct access to `name` and `age` is not allowed from outside the class.\n",
    "\n",
    "class person:\n",
    "    def __init__(self,name,age):\n",
    "        self.__name = name\n",
    "        self.__age = age\n",
    "        \n",
    "    def set__name(self,name):\n",
    "        self.__name = name\n",
    "        \n",
    "    def get__name(self):\n",
    "        return self.__name\n",
    "    \n",
    "    def set__age(self,age):\n",
    "        self.__age = age\n",
    "        \n",
    "    def get__age(self):\n",
    "        return self.__age\n",
    "    \n",
    "p = person(\"shyam\",20)\n",
    "\n",
    "print(\"name:\", p.get__name())\n",
    "print(\"age:\", p.get__age())\n",
    "        \n",
    "p.set__name(\"mohan\")\n",
    "p.set__age(35)\n",
    "\n",
    "\n",
    "print(\"updated name:\",p.get__name())\n",
    "print(\"updated age:\",p.get__age())\n",
    "    \n"
   ]
  },
  {
   "cell_type": "code",
   "execution_count": null,
   "id": "9e02186b",
   "metadata": {},
   "outputs": [],
   "source": [
    "# 6.   What is the purpose of the `__init__` method in Python classes? How does it differ from other methods?  \n",
    "# Ans.\n",
    "# The __init__ method in Python is a special method known as the constructor. It is automatically called when an object of a class is created.\n",
    "# --> Purpose of __init__:\n",
    "# It is used to initialize the object's attributes when the object is created.\n",
    "\n",
    "# --> The __init__ method is different from other methods in several key ways:\n",
    "\n",
    "# 1.:- Special Method: __init__ is a special method in Python called a constructor. Regular methods are not special—they're just functions inside a class.\n",
    "\n",
    "# 2.:- Called Automatically: When you create a new object from a class, the __init__ method is called automatically. In contrast, other methods must be called manually using the object.\n",
    "\n",
    "# 3.:- Purpose: The main purpose of __init__ is to initialize the object’s attributes—in other words, to set up the object’s initial state. Regular methods are used to define what an object can do, such as performing actions or calculations.\n",
    "\n",
    "# 4.:- Return Value: The __init__ method always returns None (even if you don't write it), while regular methods can return any value you choose.\n",
    "\n"
   ]
  },
  {
   "cell_type": "code",
   "execution_count": 6,
   "id": "416c4150",
   "metadata": {},
   "outputs": [
    {
     "name": "stdout",
     "output_type": "stream",
     "text": [
      "product name: face wash\n",
      "product price: 200\n"
     ]
    }
   ],
   "source": [
    "#Coding Challenge:   Write a class `Product` with an `__init__` method that initializes the product's `name` and `price`. Create an instance of `Product` and print the product's details.\n",
    "\n",
    "class product:\n",
    "    def __init__(self,name,price):\n",
    "        self.name = name\n",
    "        self.price = price\n",
    "        \n",
    "    def show(self):\n",
    "        print(\"product name:\",self.name)\n",
    "        print(\"product price:\",self.price)\n",
    "        \n",
    "obj = product(\"face wash\",200)\n",
    "obj.show()\n",
    "    \n",
    "    \n",
    "    \n"
   ]
  },
  {
   "cell_type": "code",
   "execution_count": null,
   "id": "e45cb067",
   "metadata": {},
   "outputs": [],
   "source": [
    "# 7.  How does Python implement multiple inheritance, and what is the method resolution order (MRO)? How does MRO resolve conflicts in multiple inheritance?  \n",
    "# Ans.:\n",
    "#    -->  Python allows a class to inherit from more than one parent class. This is called multiple inheritance.\n",
    "#  -->  Method Resolution Order (MRO)\n",
    "# MRO determines the order in which base classes are searched when calling a method or attribute.\n",
    "\n",
    "# Python uses the C3 Linearization algorithm to compute MRO.\n",
    "\n",
    "# --> How MRO Resolves Conflicts\n",
    "# When two or more parent classes define the same method, Python follows the MRO order to decide which method to use.\n",
    "\n",
    "#  MRO Rules:\n",
    "# 1.--> Child class first\n",
    "# 2.--> Left to right in the inheritance list\n",
    "# 3.--> C3 Linearization ensures a consistent and logical order that respects all parent hierarchies"
   ]
  },
  {
   "cell_type": "code",
   "execution_count": 7,
   "id": "a2f286fa",
   "metadata": {},
   "outputs": [
    {
     "name": "stdout",
     "output_type": "stream",
     "text": [
      "SmartFridge starting...\n",
      "Running Appliance functions\n",
      "MRO: ['SmartFridge', 'Appliance', 'Electronic', 'object']\n"
     ]
    }
   ],
   "source": [
    "\n",
    "## - Coding Challenge:   Create two classes `Appliance` and `Electronic` with a method `operate()`. Then, create a class `SmartFridge` that inherits from both `Appliance` and `Electronic` and overrides `operate()`. Use `super()` to demonstrate MRO in `SmartFridge`.\n",
    "class Appliance:\n",
    "    def operate(self):\n",
    "        print(\"Running Appliance functions\")\n",
    "\n",
    "class Electronic:\n",
    "    def operate(self):\n",
    "        print(\"Running Electronic functions\")\n",
    "\n",
    "class SmartFridge(Appliance, Electronic):\n",
    "    def operate(self):\n",
    "        print(\"SmartFridge starting...\")\n",
    "        super().operate()  # This uses MRO to decide which parent method to call\n",
    "\n",
    "# Create an object of SmartFridge\n",
    "fridge = SmartFridge()\n",
    "fridge.operate()\n",
    "\n",
    "# Print MRO for understanding\n",
    "print(\"MRO:\", [cls.__name__ for cls in SmartFridge.mro()])\n"
   ]
  },
  {
   "cell_type": "code",
   "execution_count": null,
   "id": "fde2c86a",
   "metadata": {},
   "outputs": [],
   "source": [
    "# 8.  What are special methods (also known as magic methods) in Python? How can they be used to customize the behavior of Python classes?  \n",
    "# Ans.: \n",
    "#     Special methods (also called magic methods or dunder methods) in Python are built-in methods that start and end with double underscores (__like_this__).\n",
    "\n",
    "# They are used to customize the behavior of Python classes, especially for operators, type conversion, object representation, and more.\n",
    "\n",
    "# -->  How They Customize Class Behavior:-\n",
    "# 1. __init__ → Used to create and initialize objects (like a constructor).\n",
    "\n",
    "# 2. __str__ and __repr__ → Used when printing objects (for user-friendly or debug output).\n",
    "\n",
    "# 3. __add__, __sub__, etc. → Used to customize operators like +, -, *, etc.\n",
    "\n",
    "# 4. __getitem__ → Allows using square brackets for indexing like obj[0].\n",
    "\n",
    "# 5. __eq__, __lt__, etc. → Used to compare objects using ==, <, etc.\n",
    "\n",
    "# 6. __len__ → Used to define how len(obj) works."
   ]
  },
  {
   "cell_type": "code",
   "execution_count": null,
   "id": "482e6ba4",
   "metadata": {},
   "outputs": [
    {
     "name": "stdout",
     "output_type": "stream",
     "text": [
      "True\n",
      "False\n",
      "True\n",
      "False\n"
     ]
    }
   ],
   "source": [
    " # Coding Challenge:   Implement the `__eq__` and `__lt__` methods in a `Book` class to compare books based on their `year_published`.\n",
    "\n",
    "class Book:\n",
    "    def __init__(self, title, year_published):\n",
    "        self.title = title\n",
    "        self.year_published = year_published\n",
    "\n",
    "    def __eq__(self, other):    ## __eq__ checks if two books were published in the same year.\n",
    "        return self.year_published == other.year_published\n",
    "\n",
    "    def __lt__(self, other):     ## __lt__ checks if one book was published before the other.\n",
    "        return self.year_published < other.year_published\n",
    "\n",
    "# Create some book objects\n",
    "book1 = Book(\"Python Basics\", 2015)\n",
    "book2 = Book(\"Advanced Python\", 2018)\n",
    "book3 = Book(\"Python Basics\", 2015)\n",
    "\n",
    "# Comparisons\n",
    "print(book1 == book3)   # True (same year)\n",
    "print(book1 == book2)   # False (different years)\n",
    "print(book1 < book2)    # True (2015 < 2018)\n",
    "print(book2 < book1)    # False\n"
   ]
  },
  {
   "cell_type": "code",
   "execution_count": null,
   "id": "e26f5145",
   "metadata": {},
   "outputs": [],
   "source": [
    "# 9.   What is the difference between composition and inheritance in OOP? When would you use composition instead of inheritance?  \n",
    "# Ans.: \n",
    "# --> Inheritance (IS-A Relationship)\n",
    "# 1. Inheritance means a class inherits properties and methods from another class.\n",
    "# 2. Use when one class is a type of another.\n",
    "# 3. Promotes code reuse through a class hierarchy.\n",
    "\n",
    "# --> Composition (HAS-A Relationship)\n",
    "# 1. Composition means a class has an instance of another class and uses its functionality.\n",
    "# 2. Use when one class uses another class.\n",
    "# 3. Promotes flexibility and modularity.\n",
    "\n",
    "# --> When to Use Composition Instead of Inheritance\n",
    "#  Use Composition when:\n",
    "\n",
    "# 1. You want to reuse code without tightly coupling classes.\n",
    "# 2. Behavior is better described as \"has-a\", not \"is-a\".\n",
    "# 3. You want to change behavior at runtime or swap components.\n",
    "# 4. Avoiding the complexity of deep inheritance trees.\n",
    "\n",
    "#  Use Inheritance when:\n",
    "\n",
    "# 1. There's a clear hierarchical relationship.\n",
    "# 2. Subclass truly is a kind of the parent class.\n",
    "# 3. You want to override or extend parent behavior."
   ]
  },
  {
   "cell_type": "code",
   "execution_count": 9,
   "id": "e23635af",
   "metadata": {},
   "outputs": [
    {
     "name": "stdout",
     "output_type": "stream",
     "text": [
      "Starting the truck...\n",
      "Engine started.\n",
      "Truck is now driving.\n",
      "Parking the truck...\n",
      "Engine stopped.\n",
      "Truck is parked.\n"
     ]
    }
   ],
   "source": [
    "# -   Coding Challenge:   Create a class `Engine` and a class `Truck` that uses composition by having an instance of `Engine` as an attribute of `Truck`.\n",
    "# Define the Engine class\n",
    "class Engine:\n",
    "    def start(self):\n",
    "        print(\"Engine started.\")\n",
    "\n",
    "    def stop(self):\n",
    "        print(\"Engine stopped.\")\n",
    "\n",
    "# Define the Truck class using composition\n",
    "class Truck:\n",
    "    def __init__(self):\n",
    "        self.engine = Engine()  # Truck HAS-A Engine\n",
    "\n",
    "    def drive(self):\n",
    "        print(\"Starting the truck...\")\n",
    "        self.engine.start()\n",
    "        print(\"Truck is now driving.\")\n",
    "\n",
    "    def park(self):\n",
    "        print(\"Parking the truck...\")\n",
    "        self.engine.stop()\n",
    "        print(\"Truck is parked.\")\n",
    "\n",
    "# Test the Truck and Engine\n",
    "my_truck = Truck()\n",
    "my_truck.drive()\n",
    "my_truck.park()\n"
   ]
  },
  {
   "cell_type": "code",
   "execution_count": null,
   "id": "2e53141a",
   "metadata": {},
   "outputs": [],
   "source": [
    "# 10.   Explain the purpose of property decorators (`@property`) in Python. How do they contribute to data encapsulation and controlled access to class attributes?  \n",
    "# Ans.: \n",
    "#  The @property decorator in Python is used to turn a method into a \"getter\" for an attribute. It allows controlled access to private variables as if they were public.\n",
    "# --> Why Use It?\n",
    "# Encapsulation: Keeps internal data private (e.g., _age) while allowing safe access.\n",
    "\n",
    "# Controlled Access: You can add logic (e.g., validation) when getting or setting values.\n",
    "# Cleaner Syntax: Access like obj.age instead of obj.get_age().\n",
    "\n"
   ]
  },
  {
   "cell_type": "code",
   "execution_count": 10,
   "id": "fd065120",
   "metadata": {},
   "outputs": [
    {
     "name": "stdout",
     "output_type": "stream",
     "text": [
      "Radius: 5\n",
      "Diameter: 10\n",
      "Area: 78.53981633974483\n"
     ]
    }
   ],
   "source": [
    "#-   Coding Challenge:   Write a class `Circle` with attributes `radius`. Use property decorators to create a `diameter` property that returns the diameter of the circle and an `area` property that returns the area of the circle.\n",
    "\n",
    "import math\n",
    "\n",
    "class Circle:\n",
    "    def __init__(self, radius):\n",
    "        self._radius = radius\n",
    "\n",
    "    @property\n",
    "    def radius(self):\n",
    "        return self._radius\n",
    "\n",
    "    @radius.setter\n",
    "    def radius(self, value):\n",
    "        if value >= 0:\n",
    "            self._radius = value\n",
    "        else:\n",
    "            print(\"Radius cannot be negative!\")\n",
    "\n",
    "    @property\n",
    "    def diameter(self):\n",
    "        return 2 * self._radius\n",
    "\n",
    "    @property\n",
    "    def area(self):\n",
    "        return math.pi * self._radius ** 2\n",
    "\n",
    "# Test\n",
    "c = Circle(5)\n",
    "print(\"Radius:\", c.radius)\n",
    "print(\"Diameter:\", c.diameter)\n",
    "print(\"Area:\", c.area)\n"
   ]
  }
 ],
 "metadata": {
  "kernelspec": {
   "display_name": "Python 3",
   "language": "python",
   "name": "python3"
  },
  "language_info": {
   "codemirror_mode": {
    "name": "ipython",
    "version": 3
   },
   "file_extension": ".py",
   "mimetype": "text/x-python",
   "name": "python",
   "nbconvert_exporter": "python",
   "pygments_lexer": "ipython3",
   "version": "3.11.9"
  }
 },
 "nbformat": 4,
 "nbformat_minor": 5
}
