{
 "cells": [
  {
   "cell_type": "code",
   "execution_count": null,
   "id": "bd5924db",
   "metadata": {},
   "outputs": [
    {
     "name": "stdout",
     "output_type": "stream",
     "text": [
      "Hello, Guest!\n"
     ]
    }
   ],
   "source": [
    "# 1.  What are default arguments in Python functions, and how do they differ from required arguments? What happens when you pass `None` as a value to a parameter with a default argument? \n",
    "# Ans.:\n",
    "#     --> In Python, default arguments are parameters that assume a default value if no argument is provided during a function call.\n",
    "    \n",
    "#     --> Default vs Required Arguments:\n",
    "#         | Feature              | Default Argument             | Required Argument            |\n",
    "# | -------------------- | ---------------------------- | ---------------------------- |\n",
    "# | Definition           | Has a predefined value       | No predefined value          |\n",
    "# | Must be passed?      | No (optional)                | Yes (mandatory)              |\n",
    "# | Position in function | After all required arguments | Before any default arguments |\n",
    "# | Example              | `def greet(name=\"Guest\")`    | `def greet(name)`            |\n",
    "\n",
    "# Example: \n",
    "\n",
    "def greet(name=\"Guest\"):\n",
    "    if name is None:\n",
    "        name = \"Guest\"\n",
    "    print(f\"Hello, {name}!\")\n",
    "\n",
    "greet(None)      # Output: Hello, Guest!  (manually handled inside the function)\n",
    "\n",
    "# If you explicitly pass None, it overrides the default value — it does not fall back to the default\n",
    "#Without checking for None, this would just print: Hello, None!\n"
   ]
  },
  {
   "cell_type": "code",
   "execution_count": 2,
   "id": "9514a66b",
   "metadata": {},
   "outputs": [
    {
     "name": "stdout",
     "output_type": "stream",
     "text": [
      "Hello, Alice!\n",
      "Good morning, Bob!\n"
     ]
    }
   ],
   "source": [
    "# -  Coding Challenge: Write a function `greet` that takes a name as a required argument and a greeting message as an optional argument. If no greeting is provided, it should default to \"Hello\".\n",
    "\n",
    "def greet(name, message=\"Hello\"):\n",
    "    print(f\"{message}, {name}!\")\n",
    "\n",
    "greet(\"Alice\")               # Output: Hello, Alice!\n",
    "greet(\"Bob\", \"Good morning\") # Output: Good morning, Bob!\n"
   ]
  },
  {
   "cell_type": "code",
   "execution_count": 6,
   "id": "fc3dfe1b",
   "metadata": {},
   "outputs": [
    {
     "name": "stdout",
     "output_type": "stream",
     "text": [
      "sum 6\n",
      "name : kamlesh\n",
      "age : 20\n",
      "Hi\n",
      "Args: ('Alice', 'Bob')\n",
      "Kwargs: {'age': 25, 'city': 'Delhi'}\n"
     ]
    }
   ],
   "source": [
    "# 2.  Explain the concept of variable-length arguments in Python. How do `*args` and ` kwargs` work, and how can they be used together in a function? \n",
    "# Ans.:\n",
    "#  -->   Variable-Length Arguments in Python:\n",
    "# Python allows functions to accept a variable number of arguments using:\n",
    "    \n",
    "# --> *args → for non-keyworded (positional) arguments\n",
    "# --> **kwargs → for keyworded (named) arguments\n",
    "\n",
    "# --> *args – Non-keyword Arguments\n",
    "# Collects extra positional arguments into a tuple.\n",
    "\n",
    "# Example:\n",
    "def add_num(*args):\n",
    "    total = sum(args)\n",
    "    print(\"sum\",total)\n",
    "    \n",
    "add_num(1,2,3)       ## output = sum 6\n",
    "        \n",
    "# --> **kwargs – Keyword Arguments\n",
    "# Collects extra named arguments into a dictionary.\n",
    "\n",
    "# Example:\n",
    "    \n",
    "def print_info(**kwargs):\n",
    "    for key, value in kwargs.items():\n",
    "        print(f\"{key} : {value}\")\n",
    "        \n",
    "print_info(name = \"kamlesh\", age = 20)    ## output = name : kamlesh\n",
    "                                          ##          age : 20\n",
    "\n",
    "# --> Using Both *args and **kwargs Together\n",
    "# You can use both in the same function, but order matters:\n",
    "    \n",
    "def show_details(greeting, *args, **kwargs):\n",
    "    print(greeting)\n",
    "    print(\"Args:\", args)\n",
    "    print(\"Kwargs:\", kwargs)\n",
    "\n",
    "show_details(\"Hi\", \"Alice\", \"Bob\", age=25, city=\"Delhi\")\n",
    "\n",
    "# Output:\n",
    "# Hi\n",
    "# Args: ('Alice', 'Bob')\n",
    "# Kwargs: {'age': 25, 'city': 'Delhi'}\n"
   ]
  },
  {
   "cell_type": "code",
   "execution_count": 12,
   "id": "45bce1f4",
   "metadata": {},
   "outputs": [
    {
     "name": "stdout",
     "output_type": "stream",
     "text": [
      "6\n",
      "36\n",
      "-6\n",
      "-36\n"
     ]
    }
   ],
   "source": [
    "#Coding Challenge: Write a function `summarize` that takes any number of numerical arguments and returns their sum. The function should also accept optional keyword arguments that specify whether the result should be squared or negated.\n",
    "\n",
    "def summerization(*args , **kwargs):\n",
    "    total = sum(args)\n",
    "    \n",
    "    if kwargs.get(\"square\"):\n",
    "        total = total**2 \n",
    "    if kwargs.get(\"negate\"):\n",
    "        total = -total\n",
    "        \n",
    "    return total\n",
    "    \n",
    "print(summerization(1,2,3))\n",
    "print(summerization(1, 2, 3, square=True))         # Output: 36\n",
    "print(summerization(1, 2, 3, negate=True))         # Output: -6\n",
    "print(summerization(1, 2, 3, square=True, negate=True))  # Output: -36\n",
    "    "
   ]
  },
  {
   "cell_type": "code",
   "execution_count": null,
   "id": "e1259e16",
   "metadata": {},
   "outputs": [
    {
     "name": "stdout",
     "output_type": "stream",
     "text": [
      "Inside: 15\n",
      "Outside: 10\n",
      "Inside: [1, 2, 3, 4]\n",
      "Outside: [1, 2, 3, 4]\n"
     ]
    }
   ],
   "source": [
    "# 3.  What is the difference between pass-by-value and pass-by-reference? How does Python handle argument passing in functions? \n",
    "# Ans.:\n",
    "#     --> Pass-by-Value\n",
    "    \n",
    "# In pass-by-value, a copy of the actual value is passed to the function. This means:\n",
    "\n",
    "# -The function works on a copy, not the original.\n",
    "# -Changes made inside the function do not affect the original variable.\n",
    "# -This method is common in languages like C and for primitive types in Java.\n",
    "\n",
    "# Example:\n",
    "\n",
    "def modify(x):\n",
    "    x = x + 5\n",
    "    print(\"Inside:\", x)\n",
    "\n",
    "a = 10\n",
    "modify(a)\n",
    "print(\"Outside:\", a)    ##Inside: 15\n",
    "                        ##Outside: 10\n",
    "\n",
    "# --> Pass-by-Reference\n",
    "\n",
    "# In pass-by-reference, a reference to the actual object is passed to the function. This means:\n",
    "\n",
    "# -The function works on the original object.\n",
    "# -Any changes made will affect the original variable.\n",
    "# -This is common in C++, and for objects in Java and Python (partially).\n",
    "\n",
    "# Example:\n",
    "    \n",
    "def modify(lst):\n",
    "    lst.append(4)\n",
    "    print(\"Inside:\", lst)\n",
    "\n",
    "my_list = [1, 2, 3]\n",
    "modify(my_list) \n",
    "print(\"Outside:\", my_list)   ## Inside: [1, 2, 3, 4]\n",
    "                             ## Outside: [1, 2, 3, 4]\n",
    "\n",
    "# --> How python Works\n",
    "\n",
    "# -Python uses a model called pass-by-object-reference (or pass-by-assignment). Here's how it behaves:\n",
    "# -If you pass an immutable object (like int, float, str, or tuple), it behaves like pass-by-value — the original value cannot be changed.\n",
    "# -If you pass a mutable object (like list, dict, or set), it behaves like pass-by-reference — the object can be changed inside the function."
   ]
  },
  {
   "cell_type": "code",
   "execution_count": null,
   "id": "37701107",
   "metadata": {},
   "outputs": [
    {
     "name": "stdout",
     "output_type": "stream",
     "text": [
      "inside: [1, 2, 3, 4, 5]\n",
      "outside: [1, 2, 3, 4, 5]\n"
     ]
    }
   ],
   "source": [
    "#Coding Challenge: Write a function that takes a list as an argument and modifies it by appending a new item. Demonstrate how changes to the list inside the function affect the list outside the function.\n",
    "\n",
    "def modify(lst):\n",
    "    lst.append(5)\n",
    "    print(\"inside:\",lst)\n",
    "    \n",
    "my_list = [1,2,3,4]\n",
    "modify(my_list)\n",
    "print(\"outside:\",my_list)\n",
    "\n"
   ]
  },
  {
   "cell_type": "code",
   "execution_count": 15,
   "id": "a6a61a5a",
   "metadata": {},
   "outputs": [
    {
     "name": "stdout",
     "output_type": "stream",
     "text": [
      "Hello!\n",
      "Time taken: 1.0005757808685303 seconds\n"
     ]
    }
   ],
   "source": [
    "# 4.  How do decorators work in Python? Explain with an example of a simple decorator that logs the execution time of a function. \n",
    "# Ans.:\n",
    "#     A decorator in Python is a function that modifies the behavior of another function — without changing its code.\n",
    "# Decorators are often used for logging, timing, authentication, etc.\n",
    "\n",
    "# --> How it Works (Simple Steps)\n",
    "\n",
    "# -A decorator is a function that takes another function as input.\n",
    "# -It wraps the original function inside another function.\n",
    "# -The wrapper can add behavior before or after the original function runs.\n",
    "# -The @decorator_name syntax is a shortcut to apply the decorator.\n",
    "\n",
    "# Example:\n",
    "\n",
    "import time\n",
    "\n",
    "# Decorator\n",
    "def timer(func):\n",
    "    def wrapper():\n",
    "        start = time.time()\n",
    "        func()  # Call the original function\n",
    "        end = time.time()\n",
    "        print(\"Time taken:\", end - start, \"seconds\")\n",
    "    return wrapper\n",
    "\n",
    "# Apply decorator\n",
    "@timer\n",
    "def say_hello():\n",
    "    time.sleep(1)  # Pause for 1 second\n",
    "    print(\"Hello!\")\n",
    "\n",
    "# Call the function\n",
    "say_hello()\n",
    "\n"
   ]
  },
  {
   "cell_type": "code",
   "execution_count": 16,
   "id": "7f69d599",
   "metadata": {},
   "outputs": [
    {
     "name": "stdout",
     "output_type": "stream",
     "text": [
      "Task finished.\n",
      "Time taken: 2.0004 seconds\n"
     ]
    }
   ],
   "source": [
    "# Coding Challenge: Write a decorator `@timing` that prints the time taken by a function to execute.\n",
    "import time\n",
    "\n",
    "def timing(func):\n",
    "    def wrapper(*args, **kwargs):\n",
    "        start = time.time()             # Start time\n",
    "        result = func(*args, **kwargs)  # Run the actual function\n",
    "        end = time.time()               # End time\n",
    "        print(f\"Time taken: {end - start:.4f} seconds\")\n",
    "        return result\n",
    "    return wrapper\n",
    "\n",
    "# 🔸 Apply the decorator\n",
    "@timing\n",
    "def sample_task():\n",
    "    time.sleep(2)  # Simulate some delay\n",
    "    print(\"Task finished.\")\n",
    "\n",
    "# 🔸 Call the decorated function\n",
    "sample_task()\n"
   ]
  },
  {
   "cell_type": "code",
   "execution_count": null,
   "id": "93867b19",
   "metadata": {},
   "outputs": [],
   "source": [
    "## Generators"
   ]
  },
  {
   "cell_type": "code",
   "execution_count": 17,
   "id": "853fb949",
   "metadata": {},
   "outputs": [
    {
     "name": "stdout",
     "output_type": "stream",
     "text": [
      "1\n",
      "2\n",
      "3\n",
      "4\n",
      "5\n"
     ]
    }
   ],
   "source": [
    "# 5.  What are generators in Python, and how do they differ from regular functions in terms of memory usage and performance? \n",
    "# Ans:\n",
    "# Generators are special functions in Python that yield values one at a time using the yield keyword instead of returning all values at once with return.\n",
    "\n",
    "# -->  How Generators Work:\n",
    "# -A generator function remembers its state between calls.\n",
    "# -It returns an iterator that produces values lazily — only when needed.\n",
    "\n",
    "# --> Difference Between Generators and Regular Functions\n",
    "# - A regular function uses return and gives back a value once. If you want to return multiple values, you typically return a full list — which uses more memory, especially with large data.\n",
    "\n",
    "# - A generator function uses yield to return values one at a time. It doesn't store the whole result in memory. Instead, it gives you the next value only when requested. This is called lazy evaluation.\n",
    "\n",
    "# Example:\n",
    "\n",
    "def count_up_to(n):\n",
    "    i = 1\n",
    "    while i <= n:\n",
    "        yield i\n",
    "        i += 1\n",
    "\n",
    "for number in count_up_to(5):\n",
    "    print(number)\n",
    "\n",
    "# --> Memory and Performance Benefits\n",
    "# Generators are useful when:\n",
    "\n",
    "# -You're working with large datasets.\n",
    "# -You want to save memory.\n",
    "# -You don't need all the values at once, just one at a time.\n",
    "# -Instead of holding all values in memory like a list, generators produce values on demand. This makes your program faster and lighter, especially when dealing with millions of items or infinite sequences.\n",
    "\n"
   ]
  },
  {
   "cell_type": "code",
   "execution_count": 18,
   "id": "390ab7eb",
   "metadata": {},
   "outputs": [
    {
     "name": "stdout",
     "output_type": "stream",
     "text": [
      "5\n",
      "4\n",
      "3\n",
      "2\n",
      "1\n"
     ]
    }
   ],
   "source": [
    "# -  Coding Challenge: Write a generator function `countdown(n)` that yields numbers from `n` down to 1.\n",
    "\n",
    "def countdown(n):\n",
    "    while n > 0:\n",
    "        yield n\n",
    "        n -= 1\n",
    "\n",
    "# 🔸 Example usage\n",
    "for num in countdown(5):\n",
    "    print(num)\n"
   ]
  },
  {
   "cell_type": "code",
   "execution_count": 19,
   "id": "5ed1011e",
   "metadata": {},
   "outputs": [
    {
     "name": "stdout",
     "output_type": "stream",
     "text": [
      "1\n",
      "2\n",
      "3\n"
     ]
    }
   ],
   "source": [
    "# 6.  Explain the role of the `yield` statement in Python generators. How does it differ from the `return` statement in regular functions? \n",
    "# Ans.:\n",
    "# --> The yield statement is what makes a function a generator. It allows the function to produce a value, but instead of ending the function like return does, it pauses the function’s execution and saves its state. This means the function can resume where it left off when called again.\n",
    "\n",
    "# --> Difference Between yield and return:\n",
    "    \n",
    "# -return ends the function and gives back a single value.\n",
    "# -yield pauses the function and remembers its position for the next iteration.\n",
    "    \n",
    "# Example:\n",
    "\n",
    "def simple_gen():\n",
    "    yield 1\n",
    "    yield 2\n",
    "    yield 3\n",
    "\n",
    "for i in simple_gen():\n",
    "    print(i)\n"
   ]
  },
  {
   "cell_type": "code",
   "execution_count": 20,
   "id": "64fb156d",
   "metadata": {},
   "outputs": [
    {
     "name": "stdout",
     "output_type": "stream",
     "text": [
      "0\n",
      "1\n",
      "1\n",
      "2\n",
      "3\n",
      "5\n",
      "8\n",
      "13\n",
      "21\n",
      "34\n"
     ]
    }
   ],
   "source": [
    "# Coding Challenge: Write a generator `fibonacci()` that yields the Fibonacci sequence indefinitely.\n",
    "def fibonacci():\n",
    "    a, b = 0, 1\n",
    "    while True:\n",
    "        yield a\n",
    "        a, b = b, a + b\n",
    "\n",
    "# 🔸 Example usage (print first 10 numbers)\n",
    "fib = fibonacci()\n",
    "for _ in range(10):\n",
    "    print(next(fib))\n"
   ]
  },
  {
   "cell_type": "code",
   "execution_count": null,
   "id": "87612030",
   "metadata": {},
   "outputs": [],
   "source": [
    "# 7.  How can you use generators to handle large datasets or streams of data efficiently? Provide an example. \n",
    "# Ans:\n",
    "# Generators are perfect for working with large datasets or data streams because they process data one item at a time, instead of loading everything into memory at once.\n",
    "\n",
    "# This helps you:\n",
    "\n",
    "# -Save memory (especially with large files or millions of records)\n",
    "# -Improve performance\n",
    "# -Handle streaming data like logs, APIs, sensor feeds, etc."
   ]
  },
  {
   "cell_type": "code",
   "execution_count": 23,
   "id": "59a78e19",
   "metadata": {},
   "outputs": [
    {
     "name": "stdout",
     "output_type": "stream",
     "text": [
      "File not found.\n"
     ]
    }
   ],
   "source": [
    "# Coding Challenge: Write a generator `file_reader(file_name)` that reads a large text file line by line and yields each line.\n",
    "\n",
    "def file_reader(file_name):\n",
    "    \"\"\"Generator that reads a file line by line.\"\"\"\n",
    "    try:\n",
    "        with open(file_name, 'r') as file:\n",
    "            for line in file:\n",
    "                yield line.strip()  # Remove newline characters\n",
    "    except FileNotFoundError:\n",
    "        print(\"File not found.\")\n",
    "    except Exception as e:\n",
    "        print(\"An error occurred:\", e)\n",
    "\n",
    "# 🔸 Example usage:\n",
    "# Make sure you have a file named 'sample.txt' in the same folder\n",
    "for line in file_reader(\"sample.txt\"):\n",
    "    print(line)\n",
    "\n",
    "   "
   ]
  },
  {
   "cell_type": "code",
   "execution_count": null,
   "id": "d9d99dcd",
   "metadata": {},
   "outputs": [],
   "source": [
    "# 8.  What are generator expressions, and how do they differ from list comprehensions? Provide an example where a generator expression would be more efficient than a list comprehension. \n",
    "# Ans:\n",
    "# A generator expression is similar to a list comprehension, but instead of creating the entire list in memory, it returns a generator object that produces items one at a time on demand.\n",
    "\n",
    "# -->  Difference Between Generator Expression and List Comprehension:\n",
    "# 1. List comprehension:\n",
    "\n",
    "# -Creates and stores all elements in memory.\n",
    "# Example:\n",
    "squares = [x**2 for x in range(10)]\n",
    "\n",
    "# 2.Generator expression:\n",
    "\n",
    "# Produces one item at a time — more memory-efficient.\n",
    "\n",
    "# Syntax is the same as list comprehension, but uses () instead of [].\n",
    "\n",
    "# Example:\n",
    "squares = (x**2 for x in range(10))\n",
    "\n",
    "# --> When is a Generator Expression More Efficient?\n",
    "# Use generator expressions when:\n",
    "\n",
    "# -You're dealing with very large datasets.\n",
    "# -You don't need all items at once (like when iterating).\n",
    "# -You want to save memory.\n",
    "\n",
    "# Example:\n",
    "\n",
    "# Using generator expression to compute sum of squares\n",
    "squares_sum = sum(x**2 for x in range(1000000))\n",
    "print(squares_sum)\n"
   ]
  },
  {
   "cell_type": "code",
   "execution_count": null,
   "id": "653294d6",
   "metadata": {},
   "outputs": [],
   "source": [
    "# -  Coding Challenge: Convert the following list comprehension into a generator expression:\n",
    "    #  ```python\n",
    "    #  squares = [x **2 for x in range(1000000)]\n",
    "    #  ```\n",
    "## --> Convert this list comprehension:\n",
    "squares = [x ** 2 for x in range(1000000)]\n",
    "\n",
    "#--> To a generator expression:\n",
    "squares = (x ** 2 for x in range(1000000))\n",
    "#Now, squares is a generator that produces values on demand, not all at once."
   ]
  },
  {
   "cell_type": "code",
   "execution_count": 25,
   "id": "e5d22c5e",
   "metadata": {},
   "outputs": [
    {
     "name": "stdout",
     "output_type": "stream",
     "text": [
      "5\n"
     ]
    }
   ],
   "source": [
    "# Lambda Functions\n",
    "# 9.  What are lambda functions in Python, and when should they be used over regular functions? What are some limitations of lambda functions? \n",
    "# Ans:\n",
    "#     A lambda function is a small anonymous function in Python — defined using the lambda keyword instead of def.\n",
    "# - It’s often used when you need a short function just once, especially with functions like map(), filter(), or sorted().\n",
    "\n",
    "# Syntax:\n",
    "\n",
    "# lambda arguments: expression\n",
    "\n",
    "# Example:\n",
    "\n",
    "add = lambda x, y: x + y\n",
    "print(add(2, 3))  # Output: 5\n",
    "\n",
    "# -->When to Use Lambda Functions:\n",
    "# Use lambda functions:\n",
    "\n",
    "# -For short, simple logic (usually 1 line).\n",
    "# -When you need a function temporarily.\n",
    "# -In functional programming tools like map(), filter(), or sorted().\n",
    "\n",
    "# --> Limitations of Lambda Functions:\n",
    "    \n",
    "# -Can only contain a single expression — no multiple lines or statements.\n",
    "# -No name unless assigned to a variable.\n",
    "# -Not ideal for complex logic or debugging."
   ]
  },
  {
   "cell_type": "code",
   "execution_count": 26,
   "id": "ccf79c41",
   "metadata": {},
   "outputs": [
    {
     "name": "stdout",
     "output_type": "stream",
     "text": [
      "[5, 12, 21, 32]\n"
     ]
    }
   ],
   "source": [
    "#-  Coding Challenge: Write a lambda function that takes two arguments and returns their product. Then, use this lambda function to multiply elements of two lists pairwise.\n",
    "\n",
    "# Lambda function for product\n",
    "multiply = lambda x, y: x * y\n",
    "\n",
    "# Two lists\n",
    "list1 = [1, 2, 3, 4]\n",
    "list2 = [5, 6, 7, 8]\n",
    "\n",
    "# Pairwise multiplication using map and lambda\n",
    "result = list(map(multiply, list1, list2))\n",
    "\n",
    "# Output result\n",
    "print(result)\n"
   ]
  },
  {
   "cell_type": "code",
   "execution_count": 29,
   "id": "deb2c9c8",
   "metadata": {},
   "outputs": [
    {
     "name": "stdout",
     "output_type": "stream",
     "text": [
      "[1, 4, 9, 16]\n",
      "[2, 4, 6]\n",
      "24\n"
     ]
    }
   ],
   "source": [
    "# 10.  How can lambda functions be used with Python's built-in functions like `map()`, `filter()`, and `reduce()`? Provide examples of each. \n",
    "# Ans:\n",
    "# Lambda functions are often used with Python’s built-in functional programming tools — map(), filter(), and reduce() — for short, inline operations.\n",
    "\n",
    "# --> map(function, iterable)\n",
    "\n",
    "# -Applies a function to each item in an iterable.\n",
    "# -Useful for transformations.\n",
    "\n",
    "# Example:\n",
    "# Example: Square each number\n",
    "nums = [1, 2, 3, 4]\n",
    "squares = list(map(lambda x: x**2, nums))\n",
    "print(squares)  # Output: [1, 4, 9, 16]\n",
    "\n",
    "# --> filter(function, iterable)\n",
    "\n",
    "# -Returns only the items where the function returns True.\n",
    "# -Used for filtering data.\n",
    "\n",
    "# Example: Keep only even numbers\n",
    "nums = [1, 2, 3, 4, 5, 6]\n",
    "evens = list(filter(lambda x: x % 2 == 0, nums))\n",
    "print(evens)  # Output: [2, 4, 6]\n",
    "\n",
    "# --> reduce(function, iterable) (from functools module)\n",
    "\n",
    "# -Applies the function cumulatively to the iterable — reducing it to a single value.\n",
    "\n",
    "from functools import reduce\n",
    "\n",
    "# Example: Multiply all numbers\n",
    "nums = [1, 2, 3, 4]\n",
    "product = reduce(lambda x, y: x * y, nums)\n",
    "print(product)  # Output: 24\n",
    "\n",
    "\n",
    "\n",
    "\n"
   ]
  },
  {
   "cell_type": "code",
   "execution_count": 30,
   "id": "a1f65f25",
   "metadata": {},
   "outputs": [
    {
     "name": "stdout",
     "output_type": "stream",
     "text": [
      "Uppercase: ['HELLO', 'WORLD', 'PYTHON']\n",
      "Odd numbers: [1, 3, 5]\n",
      "Product: 24\n"
     ]
    }
   ],
   "source": [
    "#-  Coding Challenge: Use `map()` with a lambda function to convert a list of strings to uppercase. Use `filter()` with a lambda function to filter out even numbers from a list. Finally, use `reduce()` with a lambda function to find the product of all numbers in a list.\n",
    "\n",
    "from functools import reduce\n",
    "\n",
    "# 1. map() → Convert strings to uppercase\n",
    "words = ['hello', 'world', 'python']\n",
    "uppercased = list(map(lambda x: x.upper(), words))\n",
    "print(\"Uppercase:\", uppercased)  # ['HELLO', 'WORLD', 'PYTHON']\n",
    "\n",
    "# 2. filter() → Filter out even numbers\n",
    "numbers = [1, 2, 3, 4, 5, 6]\n",
    "odds = list(filter(lambda x: x % 2 != 0, numbers))\n",
    "print(\"Odd numbers:\", odds)  # [1, 3, 5]\n",
    "\n",
    "# 3. reduce() → Find product of all numbers\n",
    "nums = [1, 2, 3, 4]\n",
    "product = reduce(lambda x, y: x * y, nums)\n",
    "print(\"Product:\", product)  # 24\n"
   ]
  }
 ],
 "metadata": {
  "kernelspec": {
   "display_name": "Python 3",
   "language": "python",
   "name": "python3"
  },
  "language_info": {
   "codemirror_mode": {
    "name": "ipython",
    "version": 3
   },
   "file_extension": ".py",
   "mimetype": "text/x-python",
   "name": "python",
   "nbconvert_exporter": "python",
   "pygments_lexer": "ipython3",
   "version": "3.11.9"
  }
 },
 "nbformat": 4,
 "nbformat_minor": 5
}
