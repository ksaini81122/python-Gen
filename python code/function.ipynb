{
 "cells": [
  {
   "cell_type": "code",
   "execution_count": null,
   "id": "e93fd133",
   "metadata": {},
   "outputs": [],
   "source": [
    "## function -- aakpke koi bhi task ko repetitive krwana ka kaam krta h\n",
    "## fuction are if two type\n",
    "## 1 . built in function -- type , len , print\n",
    "## 2 . user defined functions\n"
   ]
  },
  {
   "cell_type": "code",
   "execution_count": 1,
   "id": "731b2be6",
   "metadata": {},
   "outputs": [
    {
     "name": "stdout",
     "output_type": "stream",
     "text": [
      "hello\n"
     ]
    }
   ],
   "source": [
    "def name():\n",
    "    ## block of code\n",
    "    print(\"hello\")\n",
    "    \n",
    "## calling a function\n",
    "name() "
   ]
  },
  {
   "cell_type": "code",
   "execution_count": null,
   "id": "2c59b309",
   "metadata": {},
   "outputs": [],
   "source": [
    "## parametrs and argumensts \n",
    "## parameters -- information jo pass krta h function ko bnta time\n",
    "## arguments -- vo information jo function ko call krta time dta h\n",
    "\n"
   ]
  },
  {
   "cell_type": "code",
   "execution_count": 2,
   "id": "3eddf456",
   "metadata": {},
   "outputs": [
    {
     "name": "stdout",
     "output_type": "stream",
     "text": [
      "30\n"
     ]
    }
   ],
   "source": [
    "## function without parameters\n",
    "def add():\n",
    "    a = 10\n",
    "    b = 20\n",
    "    print(a+b)\n",
    "    \n",
    "add()    "
   ]
  },
  {
   "cell_type": "code",
   "execution_count": null,
   "id": "dc69a9dc",
   "metadata": {},
   "outputs": [
    {
     "data": {
      "text/plain": [
       "50"
      ]
     },
     "execution_count": 3,
     "metadata": {},
     "output_type": "execute_result"
    }
   ],
   "source": [
    "def addition(a,b):  ## heere a, b is parameters\n",
    "    return a+b\n",
    "\n",
    "addition(20 ,30)  ## 20 , 30 is arguments\n",
    "\n"
   ]
  },
  {
   "cell_type": "code",
   "execution_count": 4,
   "id": "16709e1a",
   "metadata": {},
   "outputs": [
    {
     "name": "stdout",
     "output_type": "stream",
     "text": [
      "the youngest child is linus\n"
     ]
    }
   ],
   "source": [
    "## arbitary arguments -- *args\n",
    "## jab hma nhi pta hota ki no. of arguments ketna pass honga tb hm eska use krta h\n",
    "\n",
    "def child(*kids):\n",
    "    print(\"the youngest child is \" + kids[2])\n",
    "    \n",
    "child(\"email\",\"tobias\",\"linus\")    \n"
   ]
  },
  {
   "cell_type": "code",
   "execution_count": 5,
   "id": "1f61aa36",
   "metadata": {},
   "outputs": [
    {
     "name": "stdout",
     "output_type": "stream",
     "text": [
      "the youngest child is email\n"
     ]
    }
   ],
   "source": [
    "## keyworr argument\n",
    "## key valu pair me pass hote h\n",
    "\n",
    "def child(child1,child2,child3):\n",
    "    print(\"the youngest child is \"+ child3)\n",
    "    \n",
    "child(child3 =\"email\",child1 =\" tobias\",child2 = \"linus\")  "
   ]
  },
  {
   "cell_type": "code",
   "execution_count": 6,
   "id": "76ad08fd",
   "metadata": {},
   "outputs": [
    {
     "name": "stdout",
     "output_type": "stream",
     "text": [
      "the youngest child is email\n"
     ]
    }
   ],
   "source": [
    "## arbitary keyword arguments --- **kwargs\n",
    "def child(**kids):\n",
    "    print(\"the youngest child is \"+kids[\"child3\"])\n",
    "    \n",
    "child(child3 =\"email\",child1 =\" tobias\",child2 = \"linus\")  "
   ]
  },
  {
   "cell_type": "code",
   "execution_count": null,
   "id": "1e1763ff",
   "metadata": {},
   "outputs": [
    {
     "name": "stdout",
     "output_type": "stream",
     "text": [
      "i am fromindia\n",
      "i am fromjapan\n"
     ]
    }
   ],
   "source": [
    "## default parameter value\n",
    "def country(name = \"india\"): ## default ma valu phla he pass kr dta h\n",
    "    print(\"i am from \"+name)\n",
    "    \n",
    "country(\"india\")\n",
    "country(\"japan\")\n",
    "country()"
   ]
  },
  {
   "cell_type": "code",
   "execution_count": 8,
   "id": "7eaac6fe",
   "metadata": {},
   "outputs": [
    {
     "name": "stdout",
     "output_type": "stream",
     "text": [
      "['apple', 'banana', 'cherry']\n",
      "['apple', 'banana', 'cherry']\n",
      "['apple', 'banana', 'cherry']\n"
     ]
    }
   ],
   "source": [
    "def fruits(name):\n",
    "    for i in name:\n",
    "        print(name)\n",
    "        \n",
    "fruits([\"apple\",\"banana\", \"cherry\"])        "
   ]
  },
  {
   "cell_type": "code",
   "execution_count": 10,
   "id": "ea96d4da",
   "metadata": {},
   "outputs": [
    {
     "data": {
      "text/plain": [
       "3.0"
      ]
     },
     "execution_count": 10,
     "metadata": {},
     "output_type": "execute_result"
    }
   ],
   "source": [
    "## you have to make a function which can calculat the avg of a list \n",
    "def avg(name):\n",
    "    return sum(name)/len(name)\n",
    "avg([1,2,3,4,5])\n"
   ]
  },
  {
   "cell_type": "code",
   "execution_count": 11,
   "id": "27e097c6",
   "metadata": {},
   "outputs": [
    {
     "name": "stdout",
     "output_type": "stream",
     "text": [
      "The largest number in 12, 45, and 30 is: 45\n"
     ]
    }
   ],
   "source": [
    "## function to find largest among three numbers\n",
    "def find_largest(num1, num2, num3):\n",
    "\n",
    "    if num1 >= num2 and num1 >= num3:\n",
    "        return num1\n",
    "    elif num2 >= num1 and num2 >= num3:\n",
    "        return num2\n",
    "    else:\n",
    "        return num3\n",
    "\n",
    "num1 = 12\n",
    "num2 = 45\n",
    "num3 = 30\n",
    "\n",
    "largest = find_largest(num1, num2, num3)\n",
    "\n",
    "print(f\"The largest number in {num1}, {num2}, and {num3} is: {largest}\")\n",
    "        \n",
    "         "
   ]
  },
  {
   "cell_type": "code",
   "execution_count": null,
   "id": "6fa6272e",
   "metadata": {},
   "outputs": [],
   "source": [
    "## some built in functions -- lambda , map , reduce , zip ,enumerate\n"
   ]
  },
  {
   "cell_type": "code",
   "execution_count": 13,
   "id": "f7aa2798",
   "metadata": {},
   "outputs": [
    {
     "name": "stdout",
     "output_type": "stream",
     "text": [
      "20\n"
     ]
    }
   ],
   "source": [
    "## lambda -- small anonymous function\n",
    "## lambda arguments : expression\n",
    "\n",
    "x = lambda a : a + 10\n",
    "x = lambda a,b : a + b\n",
    "\n",
    "print(x(5,15))"
   ]
  },
  {
   "cell_type": "code",
   "execution_count": 15,
   "id": "5aedfd2f",
   "metadata": {},
   "outputs": [],
   "source": [
    "## map -- used to apply a functio to each item in am iterable and return a map oject\n",
    "# map(fucton,iterable)\n",
    "def sq(n):\n",
    "    return n * n"
   ]
  },
  {
   "cell_type": "code",
   "execution_count": 16,
   "id": "df4afd50",
   "metadata": {},
   "outputs": [
    {
     "data": {
      "text/plain": [
       "[1, 4, 9, 16, 25]"
      ]
     },
     "execution_count": 16,
     "metadata": {},
     "output_type": "execute_result"
    }
   ],
   "source": [
    "x = [1,2,3,4,5]\n",
    "result = list(map(sq,x))\n",
    "result"
   ]
  },
  {
   "cell_type": "code",
   "execution_count": 17,
   "id": "43564fd1",
   "metadata": {},
   "outputs": [
    {
     "data": {
      "text/plain": [
       "[1, 4, 9, 16, 25]"
      ]
     },
     "execution_count": 17,
     "metadata": {},
     "output_type": "execute_result"
    }
   ],
   "source": [
    "\n",
    "x = [1,2,3,4,5]\n",
    "result = list(map(lambda n : n*n,x))\n",
    "result\n"
   ]
  },
  {
   "cell_type": "code",
   "execution_count": 18,
   "id": "1f3104cb",
   "metadata": {},
   "outputs": [
    {
     "data": {
      "text/plain": [
       "[2, 4]"
      ]
     },
     "execution_count": 18,
     "metadata": {},
     "output_type": "execute_result"
    }
   ],
   "source": [
    "## filter (function, iterabable)--\n",
    "x = [1,2,3,4,5]\n",
    "result = list(filter(lambda n : n%2 == 0,x))\n",
    "result"
   ]
  },
  {
   "cell_type": "code",
   "execution_count": null,
   "id": "6be98c7f",
   "metadata": {},
   "outputs": [
    {
     "data": {
      "text/plain": [
       "15"
      ]
     },
     "execution_count": 20,
     "metadata": {},
     "output_type": "execute_result"
    }
   ],
   "source": [
    "## reduce\n",
    "from functools import reduce ## ya line chlne jrure h reduse ko use krna ka leya\n",
    "## reduce -- it return a single elemnt \n",
    "## reduce (function , itrabale)\n",
    "x = [1,2,3,4,5]\n",
    "result = reduce(lambda n1 ,n2 : n1+n2,x)\n",
    "result\n",
    "\n",
    "## ya left to right chlta h\n",
    "# [3,3,4,5] -- [6,4,5]--- [10,5]--[15]"
   ]
  },
  {
   "cell_type": "code",
   "execution_count": 21,
   "id": "9fcff77e",
   "metadata": {},
   "outputs": [
    {
     "data": {
      "text/plain": [
       "[(1, 'red'), (2, 'black'), (3, 'blue')]"
      ]
     },
     "execution_count": 21,
     "metadata": {},
     "output_type": "execute_result"
    }
   ],
   "source": [
    "## zip -- used to combine two or more iterable into single one\n",
    "## zip(itrable)\n",
    "\n",
    "x = [1,2,3]\n",
    "y = [\"red\",\"black\",\"blue\"]\n",
    "result = list(zip(x,y))\n",
    "result"
   ]
  },
  {
   "cell_type": "code",
   "execution_count": null,
   "id": "d85ad398",
   "metadata": {},
   "outputs": [
    {
     "data": {
      "text/plain": [
       "[(0, 'red'), (1, 'black'), (2, 'blue')]"
      ]
     },
     "execution_count": 22,
     "metadata": {},
     "output_type": "execute_result"
    }
   ],
   "source": [
    "## enumerate\n",
    "## enumerate (iterable,start=0)\n",
    "\n",
    "x = [\"red\",\"black\",\"blue\"]\n",
    "result = list(enumerate(x))  ## ya elements ka aga no. pritn krta h\n",
    "result"
   ]
  },
  {
   "cell_type": "code",
   "execution_count": 23,
   "id": "0f499b88",
   "metadata": {},
   "outputs": [
    {
     "data": {
      "text/plain": [
       "[(10, 'red'), (11, 'black'), (12, 'blue')]"
      ]
     },
     "execution_count": 23,
     "metadata": {},
     "output_type": "execute_result"
    }
   ],
   "source": [
    "x = [\"red\",\"black\",\"blue\"]\n",
    "result = list(enumerate(x,start =10),)\n",
    "result"
   ]
  }
 ],
 "metadata": {
  "kernelspec": {
   "display_name": "Python 3",
   "language": "python",
   "name": "python3"
  },
  "language_info": {
   "codemirror_mode": {
    "name": "ipython",
    "version": 3
   },
   "file_extension": ".py",
   "mimetype": "text/x-python",
   "name": "python",
   "nbconvert_exporter": "python",
   "pygments_lexer": "ipython3",
   "version": "3.11.9"
  }
 },
 "nbformat": 4,
 "nbformat_minor": 5
}
