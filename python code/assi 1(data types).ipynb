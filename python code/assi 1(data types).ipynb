{
 "cells": [
  {
   "cell_type": "code",
   "execution_count": null,
   "id": "cd40b148",
   "metadata": {},
   "outputs": [],
   "source": [
    "# Data types\n",
    "# Q.1- 1.\tHow do lists and tuples differ in terms of mutability and performance? When would you choose one over the other?\n",
    "#  Ans.- \n",
    "# LIST:- used to stor collection of data items in pyhton.                          TUPLES:- it is also used to store collection of data.\n",
    "#     :- It is Mutable(we can change, update, and delete any item from the list )  :- It is immutable(We can not update,change, delete)\n",
    "#     :- It is denoted as []                                                       :-It is denoted as ()\n",
    "#     :- It use higher memory                                                      :- It use less memory\n",
    "#     :- It is slightly slow                                                       :- It is faster\n",
    "#                                              When to use what :-\n",
    "#            USE                                       List                                TUPLES\n",
    "# Need to modify ,add , remove items     :-           yes   (Mutable)                     NO   (Immutable)\n",
    "# when data is fixed and should not be changed :-       NO                                 YES\n",
    "# performance and safety                 :-            NO                                  YES"
   ]
  },
  {
   "cell_type": "code",
   "execution_count": 2,
   "id": "83e94f91",
   "metadata": {},
   "outputs": [
    {
     "name": "stdout",
     "output_type": "stream",
     "text": [
      "[1, 2, 'kamlesh', 4, 12]\n"
     ]
    }
   ],
   "source": [
    "## for list\n",
    "lst = [1,2,\"kamlesh\",4]\n",
    "lst.append(12)\n",
    "print(lst)\n"
   ]
  },
  {
   "cell_type": "code",
   "execution_count": null,
   "id": "8a9f75d2",
   "metadata": {},
   "outputs": [
    {
     "ename": "AttributeError",
     "evalue": "'tuple' object has no attribute 'append'",
     "output_type": "error",
     "traceback": [
      "\u001b[31m---------------------------------------------------------------------------\u001b[39m",
      "\u001b[31mAttributeError\u001b[39m                            Traceback (most recent call last)",
      "\u001b[36mCell\u001b[39m\u001b[36m \u001b[39m\u001b[32mIn[3]\u001b[39m\u001b[32m, line 3\u001b[39m\n\u001b[32m      1\u001b[39m \u001b[38;5;66;03m## for Tuple\u001b[39;00m\n\u001b[32m      2\u001b[39m tpl = (\u001b[32m1\u001b[39m,\u001b[32m2\u001b[39m,\u001b[33m\"\u001b[39m\u001b[33mname\u001b[39m\u001b[33m\"\u001b[39m,\u001b[32m4\u001b[39m)\n\u001b[32m----> \u001b[39m\u001b[32m3\u001b[39m \u001b[43mtpl\u001b[49m\u001b[43m.\u001b[49m\u001b[43mappend\u001b[49m(\u001b[32m12\u001b[39m)\n\u001b[32m      4\u001b[39m \u001b[38;5;28mprint\u001b[39m(tpl)\n",
      "\u001b[31mAttributeError\u001b[39m: 'tuple' object has no attribute 'append'"
     ]
    }
   ],
   "source": [
    "## for Tuple\n",
    "tpl = (1,2,\"name\",4)\n",
    "tpl.append(12) ## it will show error because we cannot add any iteam in tuple \n",
    "print(tpl)"
   ]
  },
  {
   "cell_type": "code",
   "execution_count": 7,
   "id": "bb20e970",
   "metadata": {},
   "outputs": [
    {
     "ename": "ValueError",
     "evalue": "invalid literal for int() with base 10: 'name'",
     "output_type": "error",
     "traceback": [
      "\u001b[31m---------------------------------------------------------------------------\u001b[39m",
      "\u001b[31mValueError\u001b[39m                                Traceback (most recent call last)",
      "\u001b[36mCell\u001b[39m\u001b[36m \u001b[39m\u001b[32mIn[7]\u001b[39m\u001b[32m, line 2\u001b[39m\n\u001b[32m      1\u001b[39m s = \u001b[33m\"\u001b[39m\u001b[33mname\u001b[39m\u001b[33m\"\u001b[39m\n\u001b[32m----> \u001b[39m\u001b[32m2\u001b[39m n = \u001b[38;5;28;43mint\u001b[39;49m\u001b[43m(\u001b[49m\u001b[43ms\u001b[49m\u001b[43m)\u001b[49m      \u001b[38;5;66;03m# Works if string is numeric\u001b[39;00m\n\u001b[32m      3\u001b[39m \u001b[38;5;28mprint\u001b[39m(n)\n",
      "\u001b[31mValueError\u001b[39m: invalid literal for int() with base 10: 'name'"
     ]
    }
   ],
   "source": [
    "s = \"name\"\n",
    "n = int(s)      # Works if string is numeric\n",
    "print(n)"
   ]
  },
  {
   "cell_type": "markdown",
   "id": "0860de1f",
   "metadata": {},
   "source": [
    "Q.2 :- Explain how Python handles type conversion between different data types, such as between integers and floats or between strings and lists.\n",
    "Ans.:- Their are two type of type conversion in python.\n",
    " 1 :-  Implicit Type Conversion \n",
    " 2 :- Explicit Type Conversion\n",
    " Implicit Type Conversion -:  Python automatically convert one data type into amother data type.\n",
    " Explicit Type Conversion :-  The programmer manually converts the type using built-in functions.                         \n",
    "                       Built in function are that which is already define in the python.\n",
    "                       \n"
   ]
  },
  {
   "cell_type": "code",
   "execution_count": null,
   "id": "54a2fd14",
   "metadata": {},
   "outputs": [
    {
     "name": "stdout",
     "output_type": "stream",
     "text": [
      "12.3\n"
     ]
    }
   ],
   "source": [
    "# integer to flots(Implicit)\n",
    "a= 10 # int\n",
    "b= 2.3 # float\n",
    "c =a+b # int + float = float\n",
    "print(c) ## automaticaly covert "
   ]
  },
  {
   "cell_type": "code",
   "execution_count": null,
   "id": "4aedb8de",
   "metadata": {},
   "outputs": [
    {
     "name": "stdout",
     "output_type": "stream",
     "text": [
      "['h', 'e', 'l', 'l', 'o']\n"
     ]
    }
   ],
   "source": [
    "# string to List (Explicit)\n",
    "s = \"hello\"\n",
    "chars = list(s) # use built in function (list())\n",
    "print(chars)    \n"
   ]
  },
  {
   "cell_type": "markdown",
   "id": "35b42503",
   "metadata": {},
   "source": [
    "Q.3 :- What are the key differences between Python’s `list`, `set`, and `dictionary` data types? Provide examples of scenarios where each would be the most appropriate choice.\n",
    "Ans.:- \n",
    "LIST :- Syntex = [1,2,3]\n",
    "     :- it is mutable\n",
    "     :- allow duplicates\n",
    "     :-support indexing\n",
    "     :-used in sequece of items\n",
    "\n",
    "SET :- Syntex = {1,2,3}     \n",
    "    :- it is also mutable\n",
    "    :- do not allow duplicates\n",
    "    :- do not support indexing\n",
    "    :- used in unique collection of items\n",
    "\n",
    "DICTIONARY:- Syntex = {'a':1,'b':2}\n",
    "          :- it is also mutable\n",
    "          :- unique keys and duplicate values allow \n",
    "          :-key based access\n",
    "          :- used in key-value mapping\n",
    "\n"
   ]
  },
  {
   "cell_type": "code",
   "execution_count": null,
   "id": "d03a8889",
   "metadata": {},
   "outputs": [
    {
     "name": "stdout",
     "output_type": "stream",
     "text": [
      "['apple', 'banana', 'apple', 'milk', 'banana']\n"
     ]
    }
   ],
   "source": [
    "# list\n",
    "shopping_list = [\"apple\", \"banana\", \"apple\", \"milk\", \"banana\"]\n",
    "print(shopping_list) # allow duplicates \n"
   ]
  },
  {
   "cell_type": "code",
   "execution_count": null,
   "id": "e9fd49ae",
   "metadata": {},
   "outputs": [
    {
     "name": "stdout",
     "output_type": "stream",
     "text": [
      "{'apple', 'banana', 'milk'}\n"
     ]
    }
   ],
   "source": [
    "# set\n",
    "unique_items = set(shopping_list) # it will remove duplicates \n",
    "print( unique_items)\n"
   ]
  },
  {
   "cell_type": "code",
   "execution_count": null,
   "id": "6a992adb",
   "metadata": {},
   "outputs": [
    {
     "name": "stdout",
     "output_type": "stream",
     "text": [
      "Items with Quantity:\n",
      "apple: 2\n",
      "banana: 2\n",
      "milk: 1\n"
     ]
    }
   ],
   "source": [
    "# dictioonary\n",
    "item_quantity = {\n",
    "    \"apple\": 2,\n",
    "    \"banana\": 2,\n",
    "    \"milk\": 1\n",
    "}\n",
    "print(\"Items with Quantity:\")\n",
    "for item, quantity in item_quantity.items():\n",
    "    print(f\"{item}: {quantity}\")   ## here F means formated string means it allow key and value in one line\n"
   ]
  },
  {
   "cell_type": "markdown",
   "id": "c0fc73b6",
   "metadata": {},
   "source": [
    "Q.4 :- 4.\tDiscuss the role of the `__repr__` and `__str__` methods in custom data types. How do they differ, and when should you implement them?\n",
    "Ans. :- 1. __str__:\n",
    "-> Used to return a nice, readable string when you print the object.\n",
    "-> For users.\n",
    "\n",
    "Example: print(obj) shows something like \"Banty - Roll No: 101\"\n",
    "\n",
    "2. __repr__:\n",
    "-> Used to return a detailed string for debugging.\n",
    "-> For programmers.\n",
    "\n",
    "Example: repr(obj) shows something like \"Student('Banty', 101)\"\n"
   ]
  },
  {
   "cell_type": "code",
   "execution_count": 5,
   "id": "2ac03940",
   "metadata": {},
   "outputs": [
    {
     "name": "stdout",
     "output_type": "stream",
     "text": [
      "The output of __str__ is: Banty - Roll No: 101\n",
      "The output of __repr__ is: Student('Banty', 101)\n"
     ]
    }
   ],
   "source": [
    "# example \n",
    "## Imagine you create your own class called Student:\n",
    "# class Student:\n",
    "#     def __init__(self, name, roll):\n",
    "#         self.name = name\n",
    "#         self.roll = roll\n",
    "# s = Student(\"Banty\", 101) ## now , heare we create an object\n",
    "# print(s) ## now we try to pint it \n",
    " ## this give output = <__main__.Student object at 0x00000245BE255690>  ## This is not helpful. It doesn't tell us the name or roll number.\n",
    " \n",
    " # to fix that, we use __str__ and __repr__\n",
    " \n",
    " # -> __str__: for printing nicely\n",
    " \n",
    "class Student:\n",
    "    def __init__(self, name, roll):\n",
    "        self.name = name\n",
    "        self.roll = roll\n",
    "\n",
    "    # User-friendly string (used in print)\n",
    "    def __str__(self):\n",
    "        return f\"{self.name} - Roll No: {self.roll}\"\n",
    "\n",
    "    # Developer/debug string (used in repr)\n",
    "    def __repr__(self):\n",
    "        return f\"Student('{self.name}', {self.roll})\"\n",
    "\n",
    "# Create a student object\n",
    "s = Student(\"Banty\", 101)\n",
    "\n",
    "# Print the object (calls __str__)\n",
    "print(\"The output of __str__ is:\", s)\n",
    "\n",
    "# Use repr() (calls __repr__)\n",
    "print(\"The output of __repr__ is:\", repr(s))\n"
   ]
  },
  {
   "cell_type": "markdown",
   "id": "e51a55ff",
   "metadata": {},
   "source": [
    "Q.5 :- How does Python handle large integers? Explain the difference between `int` in Python 2 and Python 3.\n",
    "Ans.:-\n",
    "\n",
    " In Python 3, the int type can handle any size of integer, limited only by your computer’s memory.\n",
    "   So you can do this:\n",
    "\n",
    "x = 99999999999999999999999999999999999999\n",
    "print(x)\n",
    "\n",
    "-> Python will handle it without any error.\n",
    "\n",
    "-> Python automatically switches to a \"big integer\" mode behind the scenes when numbers get large.\n",
    "    we don't need to do anything special.\n",
    "\n",
    "-> Python 3 uses only one int type which can store very large numbers.\n",
    "\n",
    "-> All integers are automatically big integers.\n",
    "\n",
    "-> No 'long' type or suffix needed. \n",
    "\n",
    "x = 9999999999999999999  # Works fine, no 'L' needed\n",
    "\n",
    "In Python 2:\n",
    "\n",
    "-> int was small (fixed size).\n",
    "\n",
    "-> long was used for big numbers (L suffix).\n",
    "\n",
    "x = 9999999999999999999  # int -> causes OverflowError\n",
    "x = 9999999999999999999L # long -> works\n"
   ]
  }
 ],
 "metadata": {
  "kernelspec": {
   "display_name": "Python 3",
   "language": "python",
   "name": "python3"
  },
  "language_info": {
   "codemirror_mode": {
    "name": "ipython",
    "version": 3
   },
   "file_extension": ".py",
   "mimetype": "text/x-python",
   "name": "python",
   "nbconvert_exporter": "python",
   "pygments_lexer": "ipython3",
   "version": "3.11.9"
  }
 },
 "nbformat": 4,
 "nbformat_minor": 5
}
