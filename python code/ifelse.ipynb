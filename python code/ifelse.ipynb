{
 "cells": [
  {
   "cell_type": "code",
   "execution_count": null,
   "id": "a5cec47d",
   "metadata": {},
   "outputs": [],
   "source": [
    "# conditional statements -- if ,else .elif"
   ]
  },
  {
   "cell_type": "code",
   "execution_count": 12,
   "id": "8a6231ec",
   "metadata": {},
   "outputs": [
    {
     "name": "stdout",
     "output_type": "stream",
     "text": [
      "your grade is  fail\n"
     ]
    }
   ],
   "source": [
    "## nested ternary operator\n",
    "marks = 10\n",
    "grade = \"a\" if marks>=90 else \"B\" if marks>=75 else \"C\" if marks >=60 else \"fail\"\n",
    "print(\"your grade is \",grade)"
   ]
  },
  {
   "cell_type": "code",
   "execution_count": 16,
   "id": "e7679cc2",
   "metadata": {},
   "outputs": [
    {
     "name": "stdout",
     "output_type": "stream",
     "text": [
      "world\n"
     ]
    }
   ],
   "source": [
    "## conditional statements -- if , else , elif\n",
    "## logial operator -- and .or , not\n",
    "a = 10\n",
    "b = 10\n",
    "if not(a>b or a==b):\n",
    "    print(\"hello\")\n",
    " \n",
    "else :\n",
    "    print(\"world\") "
   ]
  },
  {
   "cell_type": "code",
   "execution_count": null,
   "id": "d8bd6605",
   "metadata": {},
   "outputs": [
    {
     "name": "stdout",
     "output_type": "stream",
     "text": [
      "hello\n"
     ]
    }
   ],
   "source": [
    "a = 20\n",
    "b = 10\n",
    "if a>b or a==b: ## dono m sa ak true hote h \n",
    "    print(\"hello\")\n",
    " \n",
    "else :\n",
    "    print(\"world\")"
   ]
  },
  {
   "cell_type": "code",
   "execution_count": 18,
   "id": "5bb17899",
   "metadata": {},
   "outputs": [
    {
     "name": "stdout",
     "output_type": "stream",
     "text": [
      "world\n"
     ]
    }
   ],
   "source": [
    "a = 10\n",
    "b = 10\n",
    "if a>b and a==b:\n",
    "    print(\"hello\")\n",
    " \n",
    "else :\n",
    "    print(\"world\")"
   ]
  },
  {
   "cell_type": "code",
   "execution_count": 8,
   "id": "05031cdd",
   "metadata": {},
   "outputs": [
    {
     "name": "stdout",
     "output_type": "stream",
     "text": [
      "b is greater\n"
     ]
    }
   ],
   "source": [
    "## ternary operator -- one line m if else ko lekhna ka teka h ternory operator\n",
    "## syntex follow -- value_if_true if condition else value_if_false\n",
    "a =10\n",
    "b =20\n",
    "print(\"a is greater\") if a>b else print(\"b is greater\")\n"
   ]
  },
  {
   "cell_type": "code",
   "execution_count": 6,
   "id": "c436b7be",
   "metadata": {},
   "outputs": [
    {
     "name": "stdout",
     "output_type": "stream",
     "text": [
      "even\n"
     ]
    }
   ],
   "source": [
    "## nested if else -- if else inside if else\n",
    "x= 10\n",
    "if x>0:\n",
    "    if x%2==0:\n",
    "        print(\"even\")\n",
    "    else:\n",
    "        print(\"odd\")\n",
    "else:\n",
    "    print(\"negative\")\n",
    "            "
   ]
  },
  {
   "cell_type": "code",
   "execution_count": 5,
   "id": "0c8547f5",
   "metadata": {},
   "outputs": [
    {
     "name": "stdout",
     "output_type": "stream",
     "text": [
      "hi\n"
     ]
    }
   ],
   "source": [
    "a = 10\n",
    "b = 10\n",
    "if a<b:\n",
    "    ## indentation -- part of syntex\n",
    "    print(\"hello\")\n",
    "elif a==b:\n",
    "    print(\"hi\")    \n",
    "else :\n",
    "    print(\"world\")    "
   ]
  },
  {
   "cell_type": "code",
   "execution_count": null,
   "id": "c49d2480",
   "metadata": {},
   "outputs": [],
   "source": []
  }
 ],
 "metadata": {
  "kernelspec": {
   "display_name": "Python 3",
   "language": "python",
   "name": "python3"
  },
  "language_info": {
   "codemirror_mode": {
    "name": "ipython",
    "version": 3
   },
   "file_extension": ".py",
   "mimetype": "text/x-python",
   "name": "python",
   "nbconvert_exporter": "python",
   "pygments_lexer": "ipython3",
   "version": "3.11.9"
  }
 },
 "nbformat": 4,
 "nbformat_minor": 5
}
