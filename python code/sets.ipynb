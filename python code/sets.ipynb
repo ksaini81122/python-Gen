{
 "cells": [
  {
   "cell_type": "code",
   "execution_count": null,
   "id": "00c319db",
   "metadata": {},
   "outputs": [],
   "source": []
  },
  {
   "cell_type": "code",
   "execution_count": 15,
   "id": "67d4bad7",
   "metadata": {},
   "outputs": [
    {
     "name": "stdout",
     "output_type": "stream",
     "text": [
      "None\n",
      "None\n"
     ]
    }
   ],
   "source": [
    "st1 = {1,2,3}\n",
    "st2 = {3,4,5}\n",
    "##\\print(st1.difference(st2))## values in st1 and st2 but not in both. set 2 ke koi bhi vlue return nhi krga\n",
    "#print(st1.symmetric_difference(st2))## dono ke valu dta h bss common value ko remove kr dta h\n",
    "#print(st1.issubset(st2))## check if st1 is superset of st. set a ka sra elemet set b m ho to vo sub set h . it will give resul in true and false\n",
    "#print(st1.issuperset(st2))## b ka sara element vo a ma bhi pesent h usa super set bolta h. ya bhi true false m reply dta h\n",
    "#print(st1.isdisjoint(st2))## chek krta h ke dono set m koi common element h ya nhi. answer in true and false\n",
    "#print(st1.intersection_update(st2))## cominaton of intersection and update. set 1 ma jo comman valu h vo print hoge or set 2 m valu da dga as it is\n",
    "print(st1.difference_update(st2))\n",
    "print(st1.symmetric_difference_update(st2))\n"
   ]
  },
  {
   "cell_type": "code",
   "execution_count": null,
   "id": "10945381",
   "metadata": {},
   "outputs": [
    {
     "name": "stdout",
     "output_type": "stream",
     "text": [
      "{1, 2, 3, 'hello', 'a', 'kamlesh', 'saini'}\n"
     ]
    }
   ],
   "source": [
    "st = {1,\"a\",2,3,\"hello\",True,1,2}\n",
    "st.update([\"kamlesh\",\"saini\"])## 2 sa jyda elemen ko setm add krna ka leya eska use krta h\n",
    "\n",
    "print(st)"
   ]
  },
  {
   "cell_type": "code",
   "execution_count": null,
   "id": "aa302c70",
   "metadata": {},
   "outputs": [
    {
     "name": "stdout",
     "output_type": "stream",
     "text": [
      "{1, 2, 3, 'hello', 'a'}\n"
     ]
    }
   ],
   "source": [
    "st = {1,\"a\",2,3,\"hello\",True,1,2}\n",
    "st.discard(\"kamlesh\")## discsrd error nhi dta h agr jo element pass keya h discard m vo set ma prest nhi hota h tb. vo list ko vaps print kr dta h\n",
    "print(st)"
   ]
  },
  {
   "cell_type": "code",
   "execution_count": null,
   "id": "be4edbed",
   "metadata": {},
   "outputs": [
    {
     "name": "stdout",
     "output_type": "stream",
     "text": [
      "{1, 2, 3, 'a'}\n"
     ]
    }
   ],
   "source": [
    "st = {1,\"a\",2,3,\"hello\",True,1,2}\n",
    "st.remove(\"hello\")## agr set m element prsent nhi h jo pass keya h to ya error dta h\n",
    "print(st)"
   ]
  },
  {
   "cell_type": "code",
   "execution_count": null,
   "id": "e9a79296",
   "metadata": {},
   "outputs": [
    {
     "name": "stdout",
     "output_type": "stream",
     "text": [
      "{2, 3, 'hello', 'a'}\n"
     ]
    }
   ],
   "source": [
    "st = {1,\"a\",2,3,\"hello\",True,1,2}\n",
    "st.pop() ## esma hm indexing nhi kr skta .sets m indexing allow nhi h . ess leya hm khaale use krnga es to ya randomly dele kr dga kooi bhi iteam \n",
    "print(st)"
   ]
  },
  {
   "cell_type": "code",
   "execution_count": 5,
   "id": "f26aea46",
   "metadata": {},
   "outputs": [
    {
     "name": "stdout",
     "output_type": "stream",
     "text": [
      "{1, 2, 3, 'hello', 'a', 'kamlesh'}\n"
     ]
    }
   ],
   "source": [
    "st = {1,\"a\",2,3,\"hello\",True,1,2}\n",
    "st.add(\"kamlesh\")\n",
    "print(st)"
   ]
  },
  {
   "cell_type": "code",
   "execution_count": 4,
   "id": "fdb34bb8",
   "metadata": {},
   "outputs": [
    {
     "name": "stdout",
     "output_type": "stream",
     "text": [
      "None\n"
     ]
    }
   ],
   "source": [
    "st = {1,\"a\",2,3,\"hello\",True,1,2}\n",
    "print(st.clear())"
   ]
  },
  {
   "cell_type": "code",
   "execution_count": null,
   "id": "510320e0",
   "metadata": {},
   "outputs": [
    {
     "name": "stdout",
     "output_type": "stream",
     "text": [
      "{1, 2, 3, 'hello', 'a'}\n",
      "<class 'set'>\n"
     ]
    }
   ],
   "source": [
    "st = {1,\"a\",2,3,\"hello\",True,1,2}\n",
    "##  1-- true\n",
    "## 0 -- false\n",
    "print(st)\n",
    "print(type(st))"
   ]
  },
  {
   "cell_type": "code",
   "execution_count": null,
   "id": "ec969b2a",
   "metadata": {},
   "outputs": [],
   "source": [
    "## set --- mutable , unordered , do not allow duplicates values and hetrogenious (multiple data tye values)\n",
    "## set is used to perform methamatical operations "
   ]
  }
 ],
 "metadata": {
  "kernelspec": {
   "display_name": "Python 3",
   "language": "python",
   "name": "python3"
  },
  "language_info": {
   "codemirror_mode": {
    "name": "ipython",
    "version": 3
   },
   "file_extension": ".py",
   "mimetype": "text/x-python",
   "name": "python",
   "nbconvert_exporter": "python",
   "pygments_lexer": "ipython3",
   "version": "3.11.9"
  }
 },
 "nbformat": 4,
 "nbformat_minor": 5
}
