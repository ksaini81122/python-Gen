{
 "cells": [
  {
   "cell_type": "markdown",
   "id": "997e6a13",
   "metadata": {},
   "source": [
    "Q.1 :- What is the difference between the `+=` operator and the `+` operator in Python when used with mutable and immutable types?\n",
    " Ans.:- \n",
    "  + :- Creates a new object by combining values.\n",
    "    :- Does not modify the original object.\n",
    "    :- Works the same for both mutable and immutable types.\n",
    "\n",
    "  += :- For immutable types, it behaves like + and creates a new object.\n",
    "     :- if the object is mutable (like list) then it modify the original list\n",
    "     "
   ]
  },
  {
   "cell_type": "code",
   "execution_count": null,
   "id": "cdf5fa93",
   "metadata": {},
   "outputs": [
    {
     "name": "stdout",
     "output_type": "stream",
     "text": [
      "15\n",
      "10\n"
     ]
    }
   ],
   "source": [
    "#Immutable Type (int)\n",
    "a = 10\n",
    "b = a\n",
    "a += 5     # a = a + 5 → Creates a new number\n",
    "print(a)   # Output: 15\n",
    "print(b)   # Output: 10 (b stays the same)\n"
   ]
  },
  {
   "cell_type": "code",
   "execution_count": 3,
   "id": "b120ad81",
   "metadata": {},
   "outputs": [
    {
     "name": "stdout",
     "output_type": "stream",
     "text": [
      "Ram Kumar\n",
      "Ram\n"
     ]
    }
   ],
   "source": [
    "##Immutable Type (str)\n",
    "name = \"Ram\"\n",
    "new_name = name\n",
    "name += \" Kumar\"  # name = name + \" Kumar\"\n",
    "print(name)       # Output: Ram Kumar\n",
    "print(new_name)   # Output: Ram\n"
   ]
  },
  {
   "cell_type": "code",
   "execution_count": null,
   "id": "3c87d65f",
   "metadata": {},
   "outputs": [
    {
     "name": "stdout",
     "output_type": "stream",
     "text": [
      "['apple', 'banana', 'mango']\n",
      "['apple', 'banana', 'mango']\n"
     ]
    }
   ],
   "source": [
    "# List (Mutable) \n",
    "fruits = [\"apple\", \"banana\"]\n",
    "basket = fruits\n",
    "fruits += [\"mango\"]   # Adds to the same list\n",
    "print(fruits)         # Output: ['apple', 'banana', 'mango'] #  Lists are mutable, so += modifies the original list in-place.\n",
    "print(basket)         # Output: ['apple', 'banana', 'mango'] \n"
   ]
  },
  {
   "cell_type": "code",
   "execution_count": null,
   "id": "bb9b983f",
   "metadata": {},
   "outputs": [
    {
     "name": "stdout",
     "output_type": "stream",
     "text": [
      "['apple', 'banana']\n",
      "['apple', 'banana', 'mango']\n"
     ]
    }
   ],
   "source": [
    "#List with + (Creates New List)\n",
    "fruits = [\"apple\", \"banana\"]\n",
    "basket = fruits + [\"mango\"]  # New list created\n",
    "print(fruits)   # Output: ['apple', 'banana']\n",
    "print(basket)   # Output: ['apple', 'banana', 'mango'] # + does not change the original list — it returns a new one.\n",
    "\n"
   ]
  },
  {
   "cell_type": "markdown",
   "id": "a4ebb78b",
   "metadata": {},
   "source": [
    "Q.2 :- Explain the purpose and use of the `in` operator in Python. How does it behave differently when used with different data types, such as strings, lists, and dictionaries?\n",
    "Ans.:- It check whether a value exists in a sequence or collection.\n",
    "    :-  It returns a Boolean: True if the value is found, False otherwise."
   ]
  },
  {
   "cell_type": "code",
   "execution_count": 6,
   "id": "b3e423d9",
   "metadata": {},
   "outputs": [
    {
     "name": "stdout",
     "output_type": "stream",
     "text": [
      "True\n",
      "False\n"
     ]
    }
   ],
   "source": [
    "#With Strings (Checks if a substring is present)\n",
    "\n",
    "text = \"hello world\"\n",
    "print(\"hello\" in text)   # True\n",
    "print(\"hi\" in text)      # False\n",
    "\n"
   ]
  },
  {
   "cell_type": "code",
   "execution_count": 7,
   "id": "5ff950cd",
   "metadata": {},
   "outputs": [
    {
     "name": "stdout",
     "output_type": "stream",
     "text": [
      "True\n",
      "False\n"
     ]
    }
   ],
   "source": [
    "#With Lists (Checks if an element exists in the list)\n",
    "fruits = [\"apple\", \"banana\", \"cherry\"]\n",
    "print(\"banana\" in fruits)  # True\n",
    "print(\"grape\" in fruits)   # False\n"
   ]
  },
  {
   "cell_type": "code",
   "execution_count": 8,
   "id": "fd785a2d",
   "metadata": {},
   "outputs": [
    {
     "name": "stdout",
     "output_type": "stream",
     "text": [
      "True\n",
      "False\n"
     ]
    }
   ],
   "source": [
    "#With Sets (Checks for existence of an element, fast due to hashing)\n",
    "colors = {\"red\", \"green\", \"blue\"}\n",
    "print(\"red\" in colors)    # True\n",
    "print(\"yellow\" in colors) # False\n"
   ]
  },
  {
   "cell_type": "code",
   "execution_count": 10,
   "id": "24335d9f",
   "metadata": {},
   "outputs": [
    {
     "name": "stdout",
     "output_type": "stream",
     "text": [
      "True\n",
      "False\n",
      "True\n"
     ]
    }
   ],
   "source": [
    "#With Dictionaries (Checks for the presence of a key (NOT value))\n",
    "student = {\"name\": \"Alice\", \"age\": 20}\n",
    "print(\"name\" in student)   # True\n",
    "print(\"Alice\" in student) # False\n",
    "\n",
    "#To check values:\n",
    "print(\"Alice\" in student.values())  # True\n"
   ]
  },
  {
   "cell_type": "markdown",
   "id": "3d108487",
   "metadata": {},
   "source": [
    "Q.3 :- How do the bitwise operators (`&`, `|`, `^`, `~`, `<<`, `>>`) work in Python? Provide examples of their usage.\n",
    "Ans. :- Bitwise operators in Python operate on the binary representations of integers.\n",
    "     "
   ]
  },
  {
   "cell_type": "code",
   "execution_count": null,
   "id": "6e7a802d",
   "metadata": {},
   "outputs": [
    {
     "name": "stdout",
     "output_type": "stream",
     "text": [
      "1\n"
     ]
    }
   ],
   "source": [
    "# 1. & (Bitwise AND)\n",
    "a = 5       # 0101\n",
    "b = 3       # 0011\n",
    "print(a & b)  # 0001 => 1  ## in bitwise AND only 1 - 1 = 1 , remaining are 0.\n"
   ]
  },
  {
   "cell_type": "code",
   "execution_count": null,
   "id": "05f8749e",
   "metadata": {},
   "outputs": [
    {
     "name": "stdout",
     "output_type": "stream",
     "text": [
      "7\n"
     ]
    }
   ],
   "source": [
    "#  2. | (Bitwise OR)\n",
    "a = 5       # 0101\n",
    "b = 3       # 0011\n",
    "print(a | b)  # 0111 => 7  # in bitwise OR if 1 is present in any of one ( eiither in a or in b) then it will give 1. here only 0 - 0 = 0\n",
    "\n"
   ]
  },
  {
   "cell_type": "code",
   "execution_count": null,
   "id": "a2f755bb",
   "metadata": {},
   "outputs": [
    {
     "name": "stdout",
     "output_type": "stream",
     "text": [
      "6\n"
     ]
    }
   ],
   "source": [
    "# 3. ^ (Bitwise XOR)\n",
    "a = 5       # 0101\n",
    "b = 3       # 0011\n",
    "print(a ^ b)  # 0110 => 6 ## in XOR (exclusive OR) same same gives 0 and different different gives 1. i.e 1 - 1 = 0 , 0 - 0 = 0, 1 - 0 = 1\n"
   ]
  },
  {
   "cell_type": "code",
   "execution_count": null,
   "id": "dd7f5b03",
   "metadata": {},
   "outputs": [
    {
     "name": "stdout",
     "output_type": "stream",
     "text": [
      "-6\n"
     ]
    }
   ],
   "source": [
    "#  4. ~ (Bitwise NOT)\n",
    "a = 5       # 0101\n",
    "print(~a)     # Inverts to ...1010 => -6 ## in NOT , it reverse each bit . i.e 1 = 0, 0 = 1. \n",
    "## note : ~a is equal to -(a + 1) in Python."
   ]
  },
  {
   "cell_type": "code",
   "execution_count": null,
   "id": "bd0fe0dc",
   "metadata": {},
   "outputs": [
    {
     "name": "stdout",
     "output_type": "stream",
     "text": [
      "10\n",
      "20\n"
     ]
    }
   ],
   "source": [
    "# 5. << (Left Shift)\n",
    "a = 5       # 0101\n",
    "print(a << 1)  # 1010 => 10   ## In left shift , Shifts the bits to the left, filling with 0s from the right.\n",
    "print(a << 2)  # 10100 => 20\n"
   ]
  },
  {
   "cell_type": "code",
   "execution_count": 6,
   "id": "c4739403",
   "metadata": {},
   "outputs": [
    {
     "name": "stdout",
     "output_type": "stream",
     "text": [
      "2\n",
      "1\n"
     ]
    }
   ],
   "source": [
    "#  6. >> (Right Shift)\n",
    "a = 5       # 0101\n",
    "print(a >> 1)  # 0010 => 2  ##  In right shift , Shifts the bits to the right, discarding bits on the right.\n",
    "print(a >> 2)  # 0001 => 1\n"
   ]
  },
  {
   "cell_type": "markdown",
   "id": "b7cedc2b",
   "metadata": {},
   "source": [
    " Precedence:-  [~(highest) , << , >> , & , ^ , | (lowest)]"
   ]
  },
  {
   "cell_type": "code",
   "execution_count": null,
   "id": "66863374",
   "metadata": {},
   "outputs": [
    {
     "name": "stdout",
     "output_type": "stream",
     "text": [
      "5\n"
     ]
    }
   ],
   "source": [
    "## Precedence:-\n",
    "\n",
    "result = 5 | 3 & 1 ## & has higher precedence than | . So first: 3 & 1 →\n",
    "  ## 3 : 011 \n",
    "  ## 1 : 001  \n",
    "  ## o\\p : 001 -> 1\n",
    "  \n",
    "  ## now-> 5|1\n",
    "  ## 5 : 101 \n",
    "  ## 1 : 001\n",
    "  ## o\\p : 101 -> 5 ( finel result)\n",
    "  \n",
    "print(result)\n"
   ]
  },
  {
   "cell_type": "markdown",
   "id": "a87eb474",
   "metadata": {},
   "source": [
    "Q.4 :- 9.\tWhat are augmented assignment operators, and how do they work in Python? Give examples with `+=`, `-=`, and `*=`.\n",
    "Ans.:- Augmented assignment operators are shortcut operators that combine an arithmetic (or bitwise) operation with assignment.\n",
    " for example : x = x + 5 ## instend of writing this we write\n",
    "               x += 5 \n",
    "                \n",
    "             :- This makes code shorter and often faster.\n",
    "             :- These are useful in Loops and counters.\n",
    "               \n",
    "| Operator |             Meaning                           | Equivalent To |\n",
    "\n",
    "| -------- | --------------------------------------------- | ------------- |\n",
    "| `+=`     | Add and assign                                | `x = x + y`   |\n",
    "| `-=`     | Subtract and assign                           | `x = x - y`   |\n",
    "| `*=`     | Multiply and assign                           | `x = x * y`   |\n",
    "| `/=`     | Divide and assign                             | `x = x / y`   |\n",
    "| `//=`    | Floor divide and assign                       | `x = x // y`  |\n",
    "| `%=`     | Modulo and assign                             | `x = x % y`   |\n",
    "| `**=`    | Power and assign                              | `x = x ** y`  |\n",
    "| `&=`, \\` | =`, `^=`, `<<=`, `>>=\\` → bitwise equivalents |               |\n"
   ]
  },
  {
   "cell_type": "code",
   "execution_count": 8,
   "id": "d0f0b58a",
   "metadata": {},
   "outputs": [
    {
     "name": "stdout",
     "output_type": "stream",
     "text": [
      "15\n",
      "12\n",
      "24\n"
     ]
    }
   ],
   "source": [
    "x = 10\n",
    "\n",
    "x += 5     # Same as x = x + 5\n",
    "print(x)   # 15\n",
    "\n",
    "x -= 3     # Same as x = x - 3\n",
    "print(x)   # 12\n",
    "\n",
    "x *= 2     # Same as x = x * 2\n",
    "print(x)   # 24\n"
   ]
  },
  {
   "cell_type": "code",
   "execution_count": null,
   "id": "332fb59a",
   "metadata": {},
   "outputs": [
    {
     "name": "stdout",
     "output_type": "stream",
     "text": [
      "5\n"
     ]
    }
   ],
   "source": [
    "# These are useful in Loops and counters.\n",
    "\n",
    "count = 0  ## count is used to tell that how many times the loop runs\n",
    "for i in range(5):\n",
    "    count += 1  ## count = count + 1\n",
    "print(count)"
   ]
  },
  {
   "cell_type": "markdown",
   "id": "7e5af881",
   "metadata": {},
   "source": [
    "Q.5 :- 10.\tHow does Python’s `is` operator differ from `==`, especially in terms of comparing lists, strings, and other complex data types?\n",
    "Ans.:- \n",
    "\n",
    "| Operator | Meaning           | Checks...                               |\n",
    "| -------- | ----------------- | --------------------------------------- |\n",
    "| `==`     | Equality operator | **Do the values match?**                |\n",
    "| `is`     | Identity operator | **Are they the same object in memory?** |\n",
    "\n",
    "Example with Numbers:\n",
    "\n",
    "a = 1000\n",
    "b = 1000\n",
    "\n",
    "print(a == b)  # ✅ True — values are equal\n",
    "print(a is b)  # ❌ False — not the same object in memory\n",
    "\n",
    "Example with Strings:\n",
    "\n",
    "x = \"hello\"\n",
    "y = \"hello\"\n",
    "\n",
    "print(x == y)  # ✅ True — same text\n",
    "print(x is y)  # ✅ True — Python reuses small strings\n",
    "\n",
    "Example with Lists :\n",
    "\n",
    "list1 = [1, 2, 3]\n",
    "list2 = [1, 2, 3]\n",
    "\n",
    "print(list1 == list2)  # ✅ True — values are equal\n",
    "print(list1 is list2)  # ❌ False — different objects\n",
    "\n"
   ]
  }
 ],
 "metadata": {
  "kernelspec": {
   "display_name": "Python 3",
   "language": "python",
   "name": "python3"
  },
  "language_info": {
   "codemirror_mode": {
    "name": "ipython",
    "version": 3
   },
   "file_extension": ".py",
   "mimetype": "text/x-python",
   "name": "python",
   "nbconvert_exporter": "python",
   "pygments_lexer": "ipython3",
   "version": "3.11.9"
  }
 },
 "nbformat": 4,
 "nbformat_minor": 5
}
