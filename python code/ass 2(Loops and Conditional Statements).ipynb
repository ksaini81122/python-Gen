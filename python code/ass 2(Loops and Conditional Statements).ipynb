{
 "cells": [
  {
   "cell_type": "markdown",
   "id": "b90a88c2",
   "metadata": {},
   "source": [
    "# Q.1 How do `if-elif-else` statements work in Python? Provide an example where multiple conditions must be checked and explain the flow of control.\n",
    "# Coding Challenge:Write a function that takes a number as input and returns \"Positive\", \"Negative\", or \"Zero\" based on the input value.\n",
    "Ans. Python’s if-elif-else structure allows conditional branching, meaning the program can make decisions and run different blocks of code depending on conditions.\n",
    "   -> Flow of Control\n",
    "if condition is checked first:\n",
    "\n",
    "If True, that block runs and the rest is skipped.\n",
    "\n",
    "If if is False, it checks the elif condition(s) (in order).\n",
    "\n",
    "If an elif is True, its block runs and the rest is skipped.\n",
    "\n",
    "If all if and elif conditions are False, the else block runs."
   ]
  },
  {
   "cell_type": "code",
   "execution_count": null,
   "id": "6a483724",
   "metadata": {},
   "outputs": [
    {
     "name": "stdout",
     "output_type": "stream",
     "text": [
      "Number is positive\n"
     ]
    }
   ],
   "source": [
    "# Coding Challenge:Write a function that takes a number as input and returns \"Positive\", \"Negative\", or \"Zero\" based on the input value.\n",
    "\n",
    "try:\n",
    "    a = int(input(\"Enter the number: \"))\n",
    "    \n",
    "    if a > 0:\n",
    "        print(\"Number is positive\")\n",
    "    elif a == 0:\n",
    "        print(\"Number is zero\")\n",
    "    else:\n",
    "        print(\"Number is negative\")\n",
    "\n",
    "except ValueError:\n",
    "    print(\"Invalid input! Please enter a valid integer.\")\n",
    "\n",
    "    \n",
    "   \n",
    "           "
   ]
  },
  {
   "cell_type": "markdown",
   "id": "295141ee",
   "metadata": {},
   "source": [
    "Q.2 :- What is the difference between for loops and while loops in terms of conditional checks? When would you prefer one over the other? \n",
    "Ans.:- \n",
    "1️ Use Case:\n",
    "– for loop: Used when you know in advance how many times to loop.\n",
    "– while loop: Used when you don’t know how many times to loop.\n",
    "\n",
    "2️ Control Type:\n",
    "– for loop: Iterates over a sequence (like list, string, or range).\n",
    "– while loop: Continues as long as a condition is true.\n",
    "\n",
    "3️ Typical Syntax:\n",
    "– for loop: for i in range(5):\n",
    "– while loop: while i < 5:\n",
    "\n",
    "4️ Best For:\n",
    "– for loop: Best for a fixed number of iterations.\n",
    "– while loop: Best for indefinite loops or loops based on external events.\n",
    "\n",
    "5️ Condition Checked:\n",
    "– for loop: The condition is automatically handled by the loop.\n",
    "– while loop: You must write the condition explicitly.\n",
    "\n",
    "6️ Loop Variable Handling:\n",
    "– for loop: Python automatically handles the loop variable.\n",
    "– while loop: You must manually update the loop variable.\n"
   ]
  },
  {
   "cell_type": "code",
   "execution_count": null,
   "id": "13e498d3",
   "metadata": {},
   "outputs": [
    {
     "name": "stdout",
     "output_type": "stream",
     "text": [
      "Prime numbers between 1 and 100 are:\n",
      "2 3 5 7 11 13 17 19 23 29 31 37 41 43 47 53 59 61 67 71 73 79 83 89 97 "
     ]
    }
   ],
   "source": [
    "#Coding Challenge:  Write a Python script to print all prime numbers between 1 and 100 using a `for` loop.\n",
    "\n",
    "print(\"Prime numbers between 1 and 100 are:\")\n",
    "\n",
    "for num in range(2, 101):  # Loop from 2 to 100\n",
    "    for i in range(2, num):  # Check for factors\n",
    "        if num % i == 0:\n",
    "            break  # Not a prime, so break the loop\n",
    "    else:\n",
    "        print(num,end=\" \")  # Print prime numbers   ###  end = \" \" -- yhis is used to print number in single line . "
   ]
  },
  {
   "cell_type": "markdown",
   "id": "e9345c25",
   "metadata": {},
   "source": [
    "Q.3 :- Explain how nested `if` statements work in Python. How can you avoid deep nesting to make your code more readable? \n",
    "Ans. ;- A nested if statement means placing one if (or elif, else) block inside another. It's used when you need to check multiple conditions step by step."
   ]
  },
  {
   "cell_type": "code",
   "execution_count": null,
   "id": "a6b25fab",
   "metadata": {},
   "outputs": [],
   "source": [
    "## Problem with Deep Nesting\n",
    "## -> Too many nested blocks make code hard to read and difficult to debug, like this:\n",
    " \n",
    " if a:\n",
    "    if b:\n",
    "        if c:\n",
    "            if d:\n",
    "                print(\"Too deep!\")\n"
   ]
  },
  {
   "cell_type": "code",
   "execution_count": null,
   "id": "54745ae1",
   "metadata": {},
   "outputs": [
    {
     "name": "stdout",
     "output_type": "stream",
     "text": [
      "You need an ID to vote.\n"
     ]
    }
   ],
   "source": [
    "## How to Avoid Deep Nesting:-\n",
    "# -> Use and, or to combine conditions:\n",
    "try:\n",
    "    \n",
    "    age = int(input(\"enter the age\", ))\n",
    "    has_id = int()\n",
    "    if age >= 18 and has_id:\n",
    "       print(\"You can vote.\")\n",
    "    elif age >= 18 and not has_id:\n",
    "       print(\"You need an ID to vote.\")\n",
    "    else:\n",
    "       print(\"You are too young to vote.\")\n",
    "except ValueError:\n",
    "    print(\" invalid age\")       \n",
    "    \n",
    "    \n",
    "    \n",
    "    \n",
    "    ###### instend of using this \n",
    "    # if condition1:\n",
    "    #if condition2:\n",
    "      #  print(\"Both true\")\n",
    "      \n",
    "    ###### use this \n",
    "   # if condition1 and condition2:\n",
    "   # print(\"Both true\")\n",
    "\n",
    "\n"
   ]
  },
  {
   "cell_type": "code",
   "execution_count": 26,
   "id": "b9e8ace0",
   "metadata": {},
   "outputs": [],
   "source": [
    "## Return early (in functions):\n",
    "def check_vote(age, has_id):\n",
    "    if age < 18:\n",
    "        return \"Too young to vote.\"\n",
    "    if not has_id:\n",
    "        return \"ID required to vote.\"\n",
    "    return \"You can vote.\"\n"
   ]
  },
  {
   "cell_type": "code",
   "execution_count": 28,
   "id": "de141a07",
   "metadata": {},
   "outputs": [
    {
     "name": "stdout",
     "output_type": "stream",
     "text": [
      "The largest number is: 14\n"
     ]
    }
   ],
   "source": [
    "## Write a function that takes three numbers as input and returns the largest of the three using nested `if` statements.\n",
    "\n",
    "def find_largest(a, b, c):\n",
    "    if a >= b:\n",
    "        if a >= c:\n",
    "            return a\n",
    "        else:\n",
    "            return c\n",
    "    else:\n",
    "        if b >= c:\n",
    "            return b\n",
    "        else:\n",
    "            return c\n",
    "\n",
    "# Taking input from the user\n",
    "a = int(input(\"Enter the first number: \"))\n",
    "b = int(input(\"Enter the second number: \"))\n",
    "c = int(input(\"Enter the third number: \"))\n",
    "\n",
    "# Calling the function and printing the result\n",
    "largest = find_largest(a, b, c)\n",
    "print(\"The largest number is:\", largest)"
   ]
  },
  {
   "cell_type": "markdown",
   "id": "56b224ed",
   "metadata": {},
   "source": [
    "Q.4 :- What are the potential risks of using `break` in loops? How does it affect loop execution and what alternatives can you use? \n",
    "Ans.:- \n",
    "## Risks of using break:\n",
    "\n",
    "-> Exits loop unexpectedly, skipping code.\n",
    "\n",
    "-> Reduces readability, especially in complex loops.\n",
    "\n",
    "-> Makes debugging harder.\n",
    "\n",
    "-> Can bypass important checks.\n",
    "\n",
    "-> Often signals poor loop design.\n",
    "\n",
    "## It Immediately stops the current loop.\n",
    "\n",
    "## Alternatives to break:\n",
    "\n",
    "-> Use proper loop conditions (while condition).\n",
    "\n",
    "-> Use a flag variable to control exit.\n",
    "\n",
    "-> Use return if inside a function.\n",
    "\n",
    "-> Use else with loops (executed only if no break).\n"
   ]
  },
  {
   "cell_type": "code",
   "execution_count": null,
   "id": "c32a8f71",
   "metadata": {},
   "outputs": [],
   "source": [
    "## Write a Python program that reads numbers from the user until they input a negative number. The program should then print the sum of all positive numbers entered.\n",
    "\n",
    "i = 0\n",
    "while True:\n",
    "    num=int(input(\"enter a positive number: \"))\n",
    "    if num<0:\n",
    "        break\n",
    "    i += num\n",
    "        \n",
    "print(\"sum of all positive no. is: \", i)        \n",
    "\n",
    "\n"
   ]
  },
  {
   "cell_type": "code",
   "execution_count": 1,
   "id": "ea601a10",
   "metadata": {},
   "outputs": [
    {
     "name": "stdout",
     "output_type": "stream",
     "text": [
      "Not found.\n"
     ]
    }
   ],
   "source": [
    "## Q.5 :- .  How does the `else` clause in a loop work, and how does it differ from the `else` in conditional statements? \n",
    "## Ans.:- else in Loops (Used with for or while):\n",
    "# The else block runs only if the loop completes normally (i.e., no break was hit).\n",
    "# If the loop is exited early using break, the else block is skipped.\n",
    "\n",
    "# Example with for + else:\n",
    "for num in [1, 2, 3, 4]:\n",
    "    if num == 5:\n",
    "        print(\"Found!\")\n",
    "        break\n",
    "else:\n",
    "    print(\"Not found.\")  # Runs because break was not hit\n"
   ]
  },
  {
   "cell_type": "code",
   "execution_count": 2,
   "id": "fcdf951f",
   "metadata": {},
   "outputs": [
    {
     "name": "stdout",
     "output_type": "stream",
     "text": [
      "0\n",
      "1\n",
      "2\n",
      "Loop finished normally\n"
     ]
    }
   ],
   "source": [
    "# Example with while + else:\n",
    "i = 0\n",
    "while i < 3:\n",
    "    print(i)\n",
    "    i += 1\n",
    "else:\n",
    "    print(\"Loop finished normally\")  # Runs because loop ended without break\n"
   ]
  },
  {
   "cell_type": "code",
   "execution_count": 3,
   "id": "930e3cb3",
   "metadata": {},
   "outputs": [
    {
     "name": "stdout",
     "output_type": "stream",
     "text": [
      "Large\n"
     ]
    }
   ],
   "source": [
    "# else in if Statements:\n",
    "#Runs when the if condition is False.\n",
    "x = 10\n",
    "if x < 5:\n",
    "    print(\"Small\")\n",
    "else:\n",
    "    print(\"Large\")  # Runs because x is not < 5\n"
   ]
  },
  {
   "cell_type": "code",
   "execution_count": null,
   "id": "d46a3cb3",
   "metadata": {},
   "outputs": [
    {
     "name": "stdout",
     "output_type": "stream",
     "text": [
      "Found at index: 1\n"
     ]
    }
   ],
   "source": [
    "## Write a function that searches for a specific element in a list using a `for` loop. If the element is found, return its index; if not, return -1 using the `else` clause in the loop.\n",
    "for index, num in enumerate([1, 2, 3, 4]):    ## enumerate() means \"give the each item in a list with its position (index).\"\n",
    "    if num == 2:\n",
    "        print(\"Found at index:\", index)\n",
    "        break\n",
    "else:\n",
    "    print(-1)  # Runs only if loop completes without break\n"
   ]
  },
  {
   "cell_type": "markdown",
   "id": "85a45c5d",
   "metadata": {},
   "source": [
    "Q.6 :- What is a common pitfall when using floating-point numbers in conditional statements? How can you avoid it? \n",
    "Ans.:- \n",
    "\n",
    "Floating-point numbers (like 0.1, 0.2, etc.) cannot always be stored exactly in memory due to how computers represent them.\n",
    "So, comparing them directly can give unexpected results:\n",
    "\n",
    "x = 0.1 + 0.2\n",
    "print(x == 0.3)  #  False (even though you expect it to be True)\n",
    "\n",
    "Because :\n",
    "0.1 + 0.2 = 0.30000000000000004 ## —not exactly 0.3.\n",
    "\n",
    "-> How to Avoid It\n",
    "->Use 'rounding' or 'tolerance' checking.\n",
    "\n",
    "Option 1: Use round()\n",
    "\n",
    "x = 0.1 + 0.2\n",
    "print(round(x, 2) == 0.3)  #  True\n",
    "\n",
    "Option 2: Use a small tolerance (best for precise comparison)\n",
    "\n",
    "x = 0.1 + 0.2\n",
    "y = 0.3\n",
    "epsilon = 1e-9  # very small number\n",
    "\n",
    "print(abs(x - y) < epsilon)  #  True\n",
    "\n"
   ]
  },
  {
   "cell_type": "code",
   "execution_count": 1,
   "id": "3bdad5b2",
   "metadata": {},
   "outputs": [
    {
     "name": "stdout",
     "output_type": "stream",
     "text": [
      "True\n"
     ]
    }
   ],
   "source": [
    "## Coding Challenge:  Write a Python function that compares two floating-point numbers and returns `True` if they are approximately equal, considering a small tolerance value.\n",
    "\n",
    "def is_approximately_equal(a, b, tolerance=1e-9):\n",
    "    return abs(a - b) < tolerance\n",
    "\n",
    "x = 0.1 + 0.2\n",
    "y = 0.3\n",
    "\n",
    "print(is_approximately_equal(x, y))  # Output: True ✅\n"
   ]
  },
  {
   "cell_type": "code",
   "execution_count": 7,
   "id": "51fe224d",
   "metadata": {},
   "outputs": [
    {
     "name": "stdout",
     "output_type": "stream",
     "text": [
      "20\n",
      "40\n",
      "60\n"
     ]
    }
   ],
   "source": [
    "# Q.7 :- How can you combine `for` loops and `if` statements to filter and process data in Python? \n",
    "# Ans.:-  we can combine for loops and if statements in Python to filter and process data by looping through items and using if to select the ones you want to act on.\n",
    "  \n",
    "numbers = [1, 2, 3, 4, 5, 6]\n",
    "\n",
    "for num in numbers:\n",
    "    if num % 2 == 0:  # Filter even numbers\n",
    "        print(num * 10)  # Process: multiply by 10\n"
   ]
  },
  {
   "cell_type": "code",
   "execution_count": 9,
   "id": "4b10be58",
   "metadata": {},
   "outputs": [
    {
     "name": "stdout",
     "output_type": "stream",
     "text": [
      "[2, 4, 6, 8, 10, 12, 14, 16]\n"
     ]
    }
   ],
   "source": [
    "# Coding Challenge:  Given a list of integers, write a Python program that uses a `for` loop and `if` statements to create a new list containing only the even numbers.\n",
    "\n",
    "lst = [1,2,3,4,5,6,7,8,9,10,11,12,13,14,15,16]\n",
    "lst2 =[]\n",
    "for i in lst:\n",
    "    if i % 2 == 0:\n",
    "        lst2.append(i)\n",
    "print(lst2)\n",
    "        "
   ]
  },
  {
   "cell_type": "code",
   "execution_count": null,
   "id": "e0c19d1c",
   "metadata": {},
   "outputs": [],
   "source": [
    "# Q.8 :- Discuss the concept of short-circuit evaluation in Python. How does it affect the performance of conditional statements? \n",
    "# Ans.:- Short-circuit evaluation means Python stops checking a condition as soon as it knows the result, when using and or or.\n",
    " \n",
    "### 1. :- Using and (Stops if first is False):-\n",
    "\n",
    "x = 0\n",
    "if x != 0 and (10 / x) > 1:\n",
    "    print(\"This won't run\")\n",
    "\n",
    "# x != 0 is False\n",
    "\n",
    "# Python stops and skips (10 / x)\n",
    "\n",
    "# So it avoids error and doesn’t print anything\n",
    "\n",
    "\n",
    "## 2. :- Using or (Stops if first is True)\n",
    "\n",
    "name = \"Alice\"\n",
    "if name == \"Alice\" or len(name) > 100:\n",
    "    print(\"Welcome, Alice!\")\n",
    "\n",
    "# name == \"Alice\" is True\n",
    "\n",
    "# Python doesn’t check len(name) > 100\n",
    "\n",
    "# It prints: Welcome, Alice!\n",
    "\n",
    "## Benefits:\n",
    "\n",
    "# ✅ Faster — avoids extra checks.\n",
    "\n",
    "# ✅ Safer — prevents errors like divide-by-zero."
   ]
  },
  {
   "cell_type": "code",
   "execution_count": 11,
   "id": "49f9b57b",
   "metadata": {},
   "outputs": [
    {
     "name": "stdout",
     "output_type": "stream",
     "text": [
      "True\n",
      "False\n",
      "True\n",
      "False\n",
      "True\n"
     ]
    }
   ],
   "source": [
    "## Coding Challenge:  Write a function that takes three boolean values and returns `True` if at least two of them are `True`, using short-circuit evaluation.\n",
    "\n",
    "def at_least_two_true(a, b, c):\n",
    "    # Returns True if at least two of the three inputs are True\n",
    "    return (a and b) or (a and c) or (b and c)\n",
    "\n",
    "# Test Cases\n",
    "print(at_least_two_true(True, True, False))   # Output: True\n",
    "print(at_least_two_true(False, True, False))  # Output: False\n",
    "print(at_least_two_true(True, False, True))   # Output: True\n",
    "print(at_least_two_true(False, False, False)) # Output: False\n",
    "print(at_least_two_true(True, True, True))    # Output: True\n"
   ]
  },
  {
   "cell_type": "code",
   "execution_count": null,
   "id": "23869d8c",
   "metadata": {},
   "outputs": [
    {
     "name": "stdout",
     "output_type": "stream",
     "text": [
      "0\n",
      "1\n",
      "3\n",
      "4\n"
     ]
    }
   ],
   "source": [
    "## Q.9 :- Explain how the `continue` statement works in a loop. What are some scenarios where using `continue` is more beneficial than restructuring the loop? \n",
    "# Ans. :- The continue statement is used inside loops (for or while) to skip the current iteration and move directly to the next cycle of the loop.\n",
    "\n",
    "## Example :-\n",
    "\n",
    "for i in range(5):\n",
    "    if i == 2:\n",
    "        continue  # Skip printing 2\n",
    "    print(i)\n",
    "    \n",
    "    ##  Useful Scenarios for continue:-\n",
    "    # 1.:- Skip invalid or unwanted data\n",
    "    \n",
    "data = [10, -5, 7, -3, 8]\n",
    "for num in data:\n",
    "    if num < 0:\n",
    "        continue  # Skip negative numbers\n",
    "    print(num)\n",
    "\n",
    "## 2. Avoid deeply nested if statements\n",
    "## instand of this:\n",
    "for x in nums:\n",
    "    if x > 0:\n",
    "        if x % 2 == 0:\n",
    "            print(x)\n",
    "\n",
    "## use this\n",
    "for x in nums:\n",
    "    if x <= 0 or x % 2 != 0:\n",
    "        continue\n",
    "    print(x)\n",
    "\n",
    "## 3.:-  Filter input or log errors cleanly\n",
    "\n",
    "inputs = [5, \"a\", 8, \"b\"]\n",
    "for val in inputs:\n",
    "    if not isinstance(val, int):\n",
    "        continue  # Skip non-integers\n",
    "    print(val * 2)\n",
    "\n",
    "\n",
    "     "
   ]
  },
  {
   "cell_type": "code",
   "execution_count": null,
   "id": "29cf8a25",
   "metadata": {},
   "outputs": [
    {
     "name": "stdout",
     "output_type": "stream",
     "text": [
      "3\n",
      "6\n",
      "9\n",
      "12\n",
      "15\n",
      "18\n"
     ]
    }
   ],
   "source": [
    "## :- Coding Challenge:  Write a Python program that iterates through a list of numbers and prints only those numbers that are divisible by 3, using the `continue` statement.\n",
    "\n",
    "numbers = [1,2,3,4,5,6,7,8,9,10,11,12,13,14,15,16,17,18]\n",
    "for num in numbers:\n",
    "    if num % 3 !=0 :\n",
    "        continue  # skip no. not divisible by 3\n",
    "    print(num)\n",
    "    "
   ]
  },
  {
   "cell_type": "code",
   "execution_count": null,
   "id": "2c385e7a",
   "metadata": {},
   "outputs": [
    {
     "name": "stdout",
     "output_type": "stream",
     "text": [
      "[2, 4, 6]\n"
     ]
    }
   ],
   "source": [
    "#Q.10 :- .  How can you use list comprehensions in combination with conditional statements to make your code more concise? \n",
    "#Ans.:- List comprehension is a short way to create a new list from an old list, using a loop and optional if condition — all in one line.\n",
    "\n",
    "## Basic Syntax:\n",
    "\n",
    "# new_list = [expression for item in iterable if condition]\n",
    "\n",
    "# expression: what you want to store in the new list\n",
    "\n",
    "# condition: filter which items to include\n",
    "\n",
    "# iterable: the original list or sequence\n",
    "\n",
    "# Benefits:\n",
    "\n",
    "# -> Shorter and cleaner than for + if blocks\n",
    "\n",
    "# -> Easier to read once you're familiar with the syntax\n",
    "\n",
    "# -> Great for filtering, mapping, or transforming lists\n",
    "\n",
    "# example : \n",
    "numbers = [1, 2, 3, 4, 5, 6]\n",
    "evens = [n for n in numbers if n % 2 == 0]\n",
    "print(evens)  # ➝ [2, 4, 6]\n"
   ]
  },
  {
   "cell_type": "code",
   "execution_count": 15,
   "id": "96155262",
   "metadata": {},
   "outputs": [
    {
     "name": "stdout",
     "output_type": "stream",
     "text": [
      "[4, 16, 36, 64, 100, 144, 196, 256, 324, 400]\n"
     ]
    }
   ],
   "source": [
    "# Coding Challenge:  Write a list comprehension that generates a list of squares of all even numbers between 1 and 20.\n",
    "\n",
    "numbers = [1,2,3,4,5,6,7,8,9,10,11,12,13,14,15,16,17,18,19,20]\n",
    "square_of_even_number = [n**2 for n in numbers if n % 2 == 0]\n",
    "print(square_of_even_number)"
   ]
  }
 ],
 "metadata": {
  "kernelspec": {
   "display_name": "Python 3",
   "language": "python",
   "name": "python3"
  },
  "language_info": {
   "codemirror_mode": {
    "name": "ipython",
    "version": 3
   },
   "file_extension": ".py",
   "mimetype": "text/x-python",
   "name": "python",
   "nbconvert_exporter": "python",
   "pygments_lexer": "ipython3",
   "version": "3.11.9"
  }
 },
 "nbformat": 4,
 "nbformat_minor": 5
}
