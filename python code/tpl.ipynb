{
 "cells": [
  {
   "cell_type": "code",
   "execution_count": 9,
   "id": "1fef4cc3",
   "metadata": {},
   "outputs": [
    {
     "ename": "ValueError",
     "evalue": "tuple.index(x): x not in tuple",
     "output_type": "error",
     "traceback": [
      "\u001b[31m---------------------------------------------------------------------------\u001b[39m",
      "\u001b[31mValueError\u001b[39m                                Traceback (most recent call last)",
      "\u001b[36mCell\u001b[39m\u001b[36m \u001b[39m\u001b[32mIn[9]\u001b[39m\u001b[32m, line 2\u001b[39m\n\u001b[32m      1\u001b[39m tpl = (\u001b[33m\"\u001b[39m\u001b[33mred\u001b[39m\u001b[33m\"\u001b[39m,\u001b[33m\"\u001b[39m\u001b[33mblack\u001b[39m\u001b[33m\"\u001b[39m,\u001b[33m\"\u001b[39m\u001b[33mblue\u001b[39m\u001b[33m\"\u001b[39m)\n\u001b[32m----> \u001b[39m\u001b[32m2\u001b[39m \u001b[38;5;28mprint\u001b[39m(\u001b[43mtpl\u001b[49m\u001b[43m.\u001b[49m\u001b[43mindex\u001b[49m\u001b[43m(\u001b[49m\u001b[32;43m4\u001b[39;49m\u001b[43m)\u001b[49m)\n",
      "\u001b[31mValueError\u001b[39m: tuple.index(x): x not in tuple"
     ]
    }
   ],
   "source": [
    "tpl = (\"red\",\"black\",\"blue\")\n",
    "print(tpl.index(4))"
   ]
  },
  {
   "cell_type": "code",
   "execution_count": null,
   "id": "f362cc44",
   "metadata": {},
   "outputs": [],
   "source": [
    "# tpl use in maping related projects and in location realtwed "
   ]
  },
  {
   "cell_type": "code",
   "execution_count": 1,
   "id": "e730d498",
   "metadata": {},
   "outputs": [
    {
     "name": "stdout",
     "output_type": "stream",
     "text": [
      "('red',)\n",
      "<class 'tuple'>\n"
     ]
    }
   ],
   "source": [
    "tpl = (\"red\",)# it denot single item tuple\n",
    "print(tpl)\n",
    "print(type(tpl))\n"
   ]
  },
  {
   "cell_type": "code",
   "execution_count": 7,
   "id": "d0973098",
   "metadata": {},
   "outputs": [
    {
     "name": "stdout",
     "output_type": "stream",
     "text": [
      "1\n",
      "('red', 'black', 'blue')\n"
     ]
    }
   ],
   "source": [
    "tpl = (\"red\",\"black\",\"blue\")\n",
    "print(tpl.count(\"red\"))\n",
    "print(tpl)"
   ]
  },
  {
   "cell_type": "code",
   "execution_count": 2,
   "id": "1252e7a0",
   "metadata": {},
   "outputs": [
    {
     "name": "stdout",
     "output_type": "stream",
     "text": [
      "('red', 'black', 'blue')\n",
      "<class 'tuple'>\n"
     ]
    }
   ],
   "source": [
    "tpl =(\"red\",\"black\",\"blue\")\n",
    "print(tpl)\n",
    "print(type(tpl))"
   ]
  }
 ],
 "metadata": {
  "kernelspec": {
   "display_name": "Python 3",
   "language": "python",
   "name": "python3"
  },
  "language_info": {
   "codemirror_mode": {
    "name": "ipython",
    "version": 3
   },
   "file_extension": ".py",
   "mimetype": "text/x-python",
   "name": "python",
   "nbconvert_exporter": "python",
   "pygments_lexer": "ipython3",
   "version": "3.11.9"
  }
 },
 "nbformat": 4,
 "nbformat_minor": 5
}
