{
 "cells": [
  {
   "cell_type": "code",
   "execution_count": null,
   "id": "df581baa",
   "metadata": {},
   "outputs": [],
   "source": [
    "## modules vs pakage vs lib\n",
    "# differ. types of modules\n",
    "#1 -- built in modules -- math , random ,os, sys , time\n",
    "#2 - user defined modules\n",
    "#3 - third party modules -- pandas, numpy , matplotlib\n"
   ]
  },
  {
   "cell_type": "code",
   "execution_count": null,
   "id": "f9c6011b",
   "metadata": {},
   "outputs": [],
   "source": [
    "#__init__.py   ## -- intitilization the pacakge\n",
    "\n",
    "\n"
   ]
  },
  {
   "cell_type": "code",
   "execution_count": 27,
   "id": "23365cef",
   "metadata": {},
   "outputs": [],
   "source": [
    "#import os\n",
    "#from os import path  ## pue file import krne h to import ka use krnga\n",
    "#or agr perticulat koi chej krna h to from ka use krta hasattr\n",
    "\n",
    "from str import addfuntionisinstr\n",
    "\n"
   ]
  },
  {
   "cell_type": "code",
   "execution_count": null,
   "id": "983cde3d",
   "metadata": {},
   "outputs": [],
   "source": [
    "import math ## used for mathamaical use"
   ]
  },
  {
   "cell_type": "code",
   "execution_count": null,
   "id": "0568bf22",
   "metadata": {},
   "outputs": [
    {
     "data": {
      "text/plain": [
       "2.718281828459045"
      ]
     },
     "execution_count": 35,
     "metadata": {},
     "output_type": "execute_result"
    }
   ],
   "source": [
    "## reusabolity of code is increase\n",
    "math.pow(2,3)\n",
    "math.sqrt(9)\n",
    "math.sin(math.pi/2)\n",
    "math.floor(1.5)\n",
    "math.pi\n",
    "math.inf\n",
    "math.e"
   ]
  }
 ],
 "metadata": {
  "kernelspec": {
   "display_name": "Python 3",
   "language": "python",
   "name": "python3"
  },
  "language_info": {
   "codemirror_mode": {
    "name": "ipython",
    "version": 3
   },
   "file_extension": ".py",
   "mimetype": "text/x-python",
   "name": "python",
   "nbconvert_exporter": "python",
   "pygments_lexer": "ipython3",
   "version": "3.11.9"
  }
 },
 "nbformat": 4,
 "nbformat_minor": 5
}
